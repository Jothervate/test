{
 "cells": [
  {
   "cell_type": "code",
   "execution_count": 8,
   "metadata": {},
   "outputs": [
    {
     "data": {
      "text/plain": [
       "'Gioruno Giobana'"
      ]
     },
     "execution_count": 8,
     "metadata": {},
     "output_type": "execute_result"
    }
   ],
   "source": [
    "#以def 自建含式:\n",
    "\n",
    "#def 自定義功能(變數1,變數2)\n",
    "# def plus(x,y):\n",
    "    #必須以return 變數1 \"對其執行命令\" 變數2 來回傳你自定義某含式的方法(數學式,或是字串相加都需要)\n",
    "#     return x+y\n",
    "# print(plus(3,7))\n",
    "\n",
    "# def mul(x,y):\n",
    "#     return x*y\n",
    "# print(mul(4,7))\n",
    "\n",
    "# def ex(x,y):\n",
    "#     return round(x/y,3)\n",
    "# print(ex(30,7))\n",
    "\n",
    "#定義姓名輸入\n",
    "def create_name(first,last):\n",
    "    first=first.capitalize()\n",
    "    last=last.capitalize()\n",
    "\n",
    "    return first+\" \"+last\n",
    "create_name(\"gioruno\",'giobana')"
   ]
  },
  {
   "cell_type": "code",
   "execution_count": 2,
   "metadata": {},
   "outputs": [
    {
     "name": "stdout",
     "output_type": "stream",
     "text": [
      "Hello!PHE researcher!,石守弘\n",
      "Hello,古明地戀\n"
     ]
    }
   ],
   "source": [
    "#使用def注意事項:\n",
    "#def --有明確規範,並且在def(變數1,變數2=\"\") 變數2後的內容為預設值,在python中為固定模式\n",
    "#例子:\n",
    "#將greet()程式預設會對人名在使用此程式碼立刻對人表示\"Hello\"\n",
    "def greet(name,greeting='Hello'):\n",
    "    print(f'{greeting},{name}')\n",
    "#可由greet(\"name\",greeting=\"輸入內容\")方法來寫下想要更改的打招呼內容\n",
    "greet(\"石守弘\",greeting=\"Hello!PHE researcher!\")\n",
    "greet(\"古明地戀\")"
   ]
  },
  {
   "cell_type": "code",
   "execution_count": 4,
   "metadata": {},
   "outputs": [
    {
     "name": "stdout",
     "output_type": "stream",
     "text": [
      "886--02--2337--7829\n"
     ]
    }
   ],
   "source": [
    "#def關鍵字參數--減少限制&更好的可讀性\n",
    "\n",
    "def get_phone(countrycode,areacode,first,last):\n",
    "    return f\"{countrycode}--{areacode}--{first}--{last}\"\n",
    "#最好可以在自己所設定的程式碼上輸入自己所設定參數內容,以免忘記\n",
    "phonenumber=(get_phone(countrycode=\"886\",areacode='02',first='2337',last='7829'))\n",
    "print(phonenumber)"
   ]
  },
  {
   "cell_type": "code",
   "execution_count": 10,
   "metadata": {},
   "outputs": [
    {
     "name": "stdout",
     "output_type": "stream",
     "text": [
      "arg=1\n",
      "arg=3\n",
      "arg=9\n",
      "arg=9\n",
      "arg=8\n",
      "arg=7\n",
      "arg=6\n",
      "43\n"
     ]
    }
   ],
   "source": [
    "#如何在自定義系統中可傳入多個參數:\n",
    "#arg=arguments,任意數量的參數--以\"*\"來表示=>tumple\n",
    "def add(*args):\n",
    "    total=0\n",
    "    for arg in args:\n",
    "        print(f\"arg={arg}\")\n",
    "        total+=arg\n",
    "    #記得一定要打return total ,否則無法產生參數總和結果\n",
    "    return total\n",
    "print(add(1,3,9,9,8,7,6))"
   ]
  },
  {
   "cell_type": "code",
   "execution_count": 13,
   "metadata": {},
   "outputs": [
    {
     "name": "stdout",
     "output_type": "stream",
     "text": [
      "name:Johon\n",
      "age:27\n",
      "occupy:IT worker\n"
     ]
    }
   ],
   "source": [
    "#設定多個變數內容輸出\n",
    "#kwargs=>關鍵字+args(keyword arguments)**=>dictionary\n",
    "def ID(**kwargs):\n",
    "    #使用.items()方法迭代字典變數內容\n",
    "    for key,value in kwargs.items():\n",
    "        print(f\"{key}:{value}\")\n",
    "    \n",
    "ID(name=\"Johon\",age='27',occupy='IT worker')"
   ]
  },
  {
   "cell_type": "code",
   "execution_count": 16,
   "metadata": {},
   "outputs": [
    {
     "name": "stdout",
     "output_type": "stream",
     "text": [
      "21\n",
      "21\n",
      "20\n",
      "20\n"
     ]
    }
   ],
   "source": [
    "#數學模組\n",
    "#round--四捨五入(但現版本此為內建方法,故不需要再使用import math 呼叫此功能)\n",
    "#可用as 設定新變數方法減少import 所需輸入外掛模組字數\n",
    "import math as m\n",
    "#ceil--直接進位\n",
    "num=20.123\n",
    "num2=20.987\n",
    "print(m.ceil(num))\n",
    "print(m.ceil(num2))\n",
    "\n",
    "#floor--小數點後數字直接去除\n",
    "print(m.floor(num))\n",
    "print(m.floor(num2))\n"
   ]
  },
  {
   "cell_type": "code",
   "execution_count": 3,
   "metadata": {},
   "outputs": [
    {
     "name": "stdout",
     "output_type": "stream",
     "text": [
      "4\n",
      "8\n",
      "50.264\n"
     ]
    }
   ],
   "source": [
    "#引入自建模組\n",
    "#必須自己有在檔案中先建立,才能夠使用(請記得要把自建模組內容存檔,方可使用!!!)\n",
    "#如果自建模組有更新,為確保能夠正常使用,請「重新起動」/(return)\n",
    "import new_create as n\n",
    "\n",
    "print(n.square(2))\n",
    "\n",
    "print(n.cube(2))\n",
    "\n",
    "print(n.cy_area(4))"
   ]
  },
  {
   "cell_type": "code",
   "execution_count": 12,
   "metadata": {},
   "outputs": [
    {
     "name": "stdout",
     "output_type": "stream",
     "text": [
      "2.0\n",
      "else\n",
      "無論有無錯誤,程式結束必定執行\n"
     ]
    }
   ],
   "source": [
    "#異常輸入提醒\n",
    "#try必定會與except一同出現,否則會有錯誤提示提醒\n",
    "\n",
    "try:\n",
    "    x=int(input(\"請輸入一個整數:\"))\n",
    "    y=int(input(\"請輸入另一個整數:\"))\n",
    "    print(x/y)\n",
    "except (ZeroDivisionError,ValueError):\n",
    "    print(\"出現錯誤,請重新輸入!\")\n",
    "#可在try中提示出現else情況發生後的反應\n",
    "else:\n",
    "    print(\"else\")\n",
    "#finally--見此print()內提示字元\n",
    "finally:\n",
    "    print(\"無論有無錯誤,程式結束必定執行\")\n"
   ]
  },
  {
   "cell_type": "code",
   "execution_count": 9,
   "metadata": {},
   "outputs": [
    {
     "name": "stdout",
     "output_type": "stream",
     "text": [
      "不存在!\n"
     ]
    }
   ],
   "source": [
    "#用os檢測檔案是否存在:\n",
    "import os\n",
    "#若要顯示\"\\\"內容,必須使用r\"\",或\\\\\n",
    "str=r\"D:\\pythonex\\sum.py\"\n",
    "\n",
    "#檢測路徑存在與否--使用os.path.exists()方法\n",
    "if os.path.exists(str):\n",
    "    print(\"存在!\")\n",
    "else:\n",
    "    print(\"不存在!\")"
   ]
  }
 ],
 "metadata": {
  "kernelspec": {
   "display_name": "Python 3",
   "language": "python",
   "name": "python3"
  },
  "language_info": {
   "codemirror_mode": {
    "name": "ipython",
    "version": 3
   },
   "file_extension": ".py",
   "mimetype": "text/x-python",
   "name": "python",
   "nbconvert_exporter": "python",
   "pygments_lexer": "ipython3",
   "version": "3.9.17"
  }
 },
 "nbformat": 4,
 "nbformat_minor": 2
}
