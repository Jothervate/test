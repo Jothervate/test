{
 "cells": [
  {
   "cell_type": "code",
   "execution_count": 20,
   "metadata": {},
   "outputs": [
    {
     "data": {
      "text/plain": [
       "[-6, -4, -2]"
      ]
     },
     "execution_count": 20,
     "metadata": {},
     "output_type": "execute_result"
    }
   ],
   "source": [
    "list4=range(-6,-1,2)\n",
    "list(list4)"
   ]
  },
  {
   "cell_type": "code",
   "execution_count": 1,
   "metadata": {},
   "outputs": [
    {
     "name": "stdout",
     "output_type": "stream",
     "text": [
      "共輸入5個數\n",
      "最大數為:100\n",
      "最小數為:9\n",
      "輸入數的總合為:261\n",
      "輸入數的由大到小排序為:[100, 98, 31, 23, 9]\n"
     ]
    }
   ],
   "source": [
    "innum=0\n",
    "list1=[]\n",
    "while(innum!=-1):\n",
    "    innum=int(input(\"請輸入正整數(-1=結束):\"))\n",
    "    list1.append(innum)\n",
    "list1.pop()\n",
    "print((\"共輸入%d個數\")%len(list1))\n",
    "print((\"最大數為:%d\")%max(list1))\n",
    "print((\"最小數為:%d\")%min(list1))\n",
    "print((\"輸入數的總合為:%d\")%sum(list1))\n",
    "print((\"輸入數的由大到小排序為:{}\".format(sorted(list1,reverse=True))))"
   ]
  },
  {
   "cell_type": "code",
   "execution_count": 1,
   "metadata": {},
   "outputs": [
    {
     "name": "stdout",
     "output_type": "stream",
     "text": [
      "香蕉,相交,下交,"
     ]
    }
   ],
   "source": [
    "list1=['香蕉','相交','下交']\n",
    "for s in list1:\n",
    "    print(s,end=',')"
   ]
  },
  {
   "cell_type": "code",
   "execution_count": 4,
   "metadata": {},
   "outputs": [
    {
     "name": "stdout",
     "output_type": "stream",
     "text": [
      "1到999999的整數和為499999500000\n"
     ]
    }
   ],
   "source": [
    "sum=0\n",
    "n=int(input('請輸入正整數:'))\n",
    "for i in range(1,n+1):\n",
    "    sum+=i\n",
    "print(\"1到%d的整數和為%d\"%(n,sum))"
   ]
  },
  {
   "cell_type": "code",
   "execution_count": 10,
   "metadata": {},
   "outputs": [
    {
     "name": "stdout",
     "output_type": "stream",
     "text": [
      "1*1=1    1*2=2    1*3=3    1*4=4    1*5=5    1*6=6    1*7=7    1*8=8    1*9=9    \n",
      "2*1=2    2*2=4    2*3=6    2*4=8    2*5=10   2*6=12   2*7=14   2*8=16   2*9=18   \n",
      "3*1=3    3*2=6    3*3=9    3*4=12   3*5=15   3*6=18   3*7=21   3*8=24   3*9=27   \n",
      "4*1=4    4*2=8    4*3=12   4*4=16   4*5=20   4*6=24   4*7=28   4*8=32   4*9=36   \n",
      "5*1=5    5*2=10   5*3=15   5*4=20   5*5=25   5*6=30   5*7=35   5*8=40   5*9=45   \n",
      "6*1=6    6*2=12   6*3=18   6*4=24   6*5=30   6*6=36   6*7=42   6*8=48   6*9=54   \n",
      "7*1=7    7*2=14   7*3=21   7*4=28   7*5=35   7*6=42   7*7=49   7*8=56   7*9=63   \n",
      "8*1=8    8*2=16   8*3=24   8*4=32   8*5=40   8*6=48   8*7=56   8*8=64   8*9=72   \n",
      "9*1=9    9*2=18   9*3=27   9*4=36   9*5=45   9*6=54   9*7=63   9*8=72   9*9=81   \n"
     ]
    }
   ],
   "source": [
    "for i in range(1,10):\n",
    "    for j in range(1,10):\n",
    "        product=i*j\n",
    "        print('%d*%d=%-5d'%(i,j,product),end='')\n",
    "    print()"
   ]
  },
  {
   "cell_type": "code",
   "execution_count": 24,
   "metadata": {},
   "outputs": [
    {
     "name": "stdout",
     "output_type": "stream",
     "text": [
      "本樓樓層為\n",
      "1    2    3    5    6    7    8    9    10   11   12   13   14   15   16   17   18   19   20   21   22   23   24   25   26   27   28   29   30   31   32   \n"
     ]
    }
   ],
   "source": [
    "n=int(input('請輸入大樓樓層數:'))\n",
    "print('本樓樓層為')\n",
    "if (n>3):\n",
    "    n+=1\n",
    "for i in range (1,n):\n",
    "    if(i==4):\n",
    "        continue\n",
    "    print('%-5d'%i,end='')\n",
    "print()"
   ]
  },
  {
   "cell_type": "code",
   "execution_count": 25,
   "metadata": {},
   "outputs": [
    {
     "name": "stdout",
     "output_type": "stream",
     "text": [
      "55\n"
     ]
    }
   ],
   "source": [
    "total=n=0\n",
    "while(n<10):\n",
    "    n+=1\n",
    "    total+=n\n",
    "print(total)"
   ]
  },
  {
   "cell_type": "code",
   "execution_count": 27,
   "metadata": {},
   "outputs": [
    {
     "name": "stdout",
     "output_type": "stream",
     "text": [
      "本班總成績:-610分,平均成績:-203.33分\n"
     ]
    }
   ],
   "source": [
    "total=person=score=0\n",
    "while(score!=-1):\n",
    "    person+=1\n",
    "    total+=score\n",
    "    score=int(input('請輸入第%d位的成績:'%person))\n",
    "average=total/(person-1)\n",
    "print('本班總成績:%d分,平均成績:%5.2f分'%(total,average))"
   ]
  },
  {
   "cell_type": "code",
   "execution_count": 31,
   "metadata": {},
   "outputs": [
    {
     "ename": "IndexError",
     "evalue": "list index out of range",
     "output_type": "error",
     "traceback": [
      "\u001b[0;31m---------------------------------------------------------------------------\u001b[0m",
      "\u001b[0;31mIndexError\u001b[0m                                Traceback (most recent call last)",
      "Cell \u001b[0;32mIn[31], line 3\u001b[0m\n\u001b[1;32m      1\u001b[0m list1\u001b[38;5;241m=\u001b[39m[\u001b[38;5;241m1\u001b[39m,\u001b[38;5;241m2\u001b[39m,\u001b[38;5;241m3\u001b[39m,\u001b[38;5;241m4\u001b[39m,\u001b[38;5;241m5\u001b[39m,\u001b[38;5;241m6\u001b[39m]\n\u001b[1;32m      2\u001b[0m list1\u001b[38;5;241m.\u001b[39mappend(\u001b[38;5;241m9\u001b[39m)\n\u001b[0;32m----> 3\u001b[0m \u001b[43mlist1\u001b[49m\u001b[43m[\u001b[49m\u001b[38;5;241;43m10\u001b[39;49m\u001b[43m]\u001b[49m\n",
      "\u001b[0;31mIndexError\u001b[0m: list index out of range"
     ]
    }
   ],
   "source": [
    "list1=[1,2,3,4,5,6]\n",
    "list1.append(9)\n",
    "list1[10]"
   ]
  },
  {
   "cell_type": "code",
   "execution_count": 7,
   "metadata": {},
   "outputs": [
    {
     "name": "stdout",
     "output_type": "stream",
     "text": [
      "54\n"
     ]
    }
   ],
   "source": [
    "def GetArea(width,height):\n",
    "    area=width*height\n",
    "    return area\n",
    "ret1=GetArea(6,9)\n",
    "print(ret1)"
   ]
  },
  {
   "cell_type": "code",
   "execution_count": 9,
   "metadata": {},
   "outputs": [
    {
     "name": "stdout",
     "output_type": "stream",
     "text": [
      "21.00 Celsius= 95.40 Fahrenheit\n"
     ]
    }
   ],
   "source": [
    "def F2C(F):\n",
    "    C=(F-32)*5/9\n",
    "    return C\n",
    "def C2F(C):\n",
    "    F=(C+32)*9/5\n",
    "    return F\n",
    "\n",
    "degree=float(input(\"Please input degree:\"))\n",
    "conversion=float(input(\"1.Fahrenheit->Celsius , 2.Celsius->Fahrenheit\"))\n",
    "\n",
    "\n",
    "if conversion==1:\n",
    "    C=F2C(degree)\n",
    "    print((\"%3.2f Celsius= %3.2f Fahrenheit\")%(degree,F))\n",
    "\n",
    "elif conversion==2:\n",
    "    F=C2F(degree)\n",
    "    print((\"%3.2f Fahrenheit= %3.2f Celsius\")%(degree,F))\n",
    "\n",
    "else:\n",
    "    print(\"wrong mark, please return to print\")"
   ]
  },
  {
   "cell_type": "code",
   "execution_count": 13,
   "metadata": {},
   "outputs": [
    {
     "name": "stdout",
     "output_type": "stream",
     "text": [
      "不定數:\n",
      "兩參數=calsum(4,5)=9\n",
      "三參數=calsum(4,5,6)=15\n",
      "四參數=calsum(4,5,6,7)=22\n"
     ]
    }
   ],
   "source": [
    "def calsum(*params):\n",
    "    total=0\n",
    "    for param in params:\n",
    "        total+=param\n",
    "    return total\n",
    "\n",
    "print(\"不定數:\")\n",
    "print((\"兩參數=calsum(4,5)=%d\")%calsum(4,5))\n",
    "print((\"三參數=calsum(4,5,6)=%d\")%calsum(4,5,6))\n",
    "print((\"四參數=calsum(4,5,6,7)=%d\")%calsum(4,5,6,7))"
   ]
  }
 ],
 "metadata": {
  "kernelspec": {
   "display_name": "Python 3",
   "language": "python",
   "name": "python3"
  },
  "language_info": {
   "codemirror_mode": {
    "name": "ipython",
    "version": 3
   },
   "file_extension": ".py",
   "mimetype": "text/x-python",
   "name": "python",
   "nbconvert_exporter": "python",
   "pygments_lexer": "ipython3",
   "version": "3.9.17"
  }
 },
 "nbformat": 4,
 "nbformat_minor": 2
}
