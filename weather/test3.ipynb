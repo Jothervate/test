{
 "cells": [
  {
   "cell_type": "code",
   "execution_count": 1,
   "metadata": {},
   "outputs": [],
   "source": [
    "import os\n",
    "os.mkdir('myDir')"
   ]
  },
  {
   "cell_type": "code",
   "execution_count": 2,
   "metadata": {},
   "outputs": [
    {
     "name": "stdout",
     "output_type": "stream",
     "text": [
      "myDir已建立!\n"
     ]
    }
   ],
   "source": [
    "dir='myDir'\n",
    "if not os.path.exists(dir):\n",
    "    os.mkdir(dir)\n",
    "else:\n",
    "    print(dir+'已建立!')"
   ]
  },
  {
   "cell_type": "code",
   "execution_count": 4,
   "metadata": {},
   "outputs": [
    {
     "name": "stdout",
     "output_type": "stream",
     "text": [
      "myDir目錄未建立!\n"
     ]
    }
   ],
   "source": [
    "dir='myDir'\n",
    "if os.path.exists(dir):\n",
    "    os.rmdir(dir)\n",
    "else:\n",
    "    print(dir+'目錄未建立!')"
   ]
  },
  {
   "cell_type": "code",
   "execution_count": 5,
   "metadata": {},
   "outputs": [],
   "source": [
    "import os.path"
   ]
  },
  {
   "cell_type": "code",
   "execution_count": 8,
   "metadata": {},
   "outputs": [
    {
     "ename": "NameError",
     "evalue": "name '__file__' is not defined",
     "output_type": "error",
     "traceback": [
      "\u001b[0;31m---------------------------------------------------------------------------\u001b[0m",
      "\u001b[0;31mNameError\u001b[0m                                 Traceback (most recent call last)",
      "Cell \u001b[0;32mIn[8], line 1\u001b[0m\n\u001b[0;32m----> 1\u001b[0m cur_path\u001b[38;5;241m=\u001b[39mos\u001b[38;5;241m.\u001b[39mpath\u001b[38;5;241m.\u001b[39mdirname(\u001b[38;5;18;43m__file__\u001b[39;49m)\n\u001b[1;32m      2\u001b[0m sample_tree\u001b[38;5;241m=\u001b[39mos\u001b[38;5;241m.\u001b[39mwalk(cur_path)\n",
      "\u001b[0;31mNameError\u001b[0m: name '__file__' is not defined"
     ]
    }
   ],
   "source": [
    "cur_path=os.path.dirname(__file__)\n",
    "sample_tree=os.walk(cur_path)"
   ]
  },
  {
   "cell_type": "code",
   "execution_count": 10,
   "metadata": {},
   "outputs": [],
   "source": [
    "context='''Hello Python\n",
    "jjxx是搞笑漫畫家\n",
    "Welcome\n",
    "'''\n",
    "\n",
    "f=open('file1.txt','w')\n",
    "f.write(context)\n",
    "f.close()\n",
    "\n"
   ]
  },
  {
   "cell_type": "code",
   "execution_count": 11,
   "metadata": {},
   "outputs": [
    {
     "name": "stdout",
     "output_type": "stream",
     "text": [
      "Hello Python\n",
      "jjxx是搞笑漫畫家\n",
      "Welcome\n"
     ]
    }
   ],
   "source": [
    "f=open('file1.txt','r')\n",
    "for line in f:\n",
    "    print(line,end='')\n",
    "f.close()"
   ]
  },
  {
   "cell_type": "code",
   "execution_count": 12,
   "metadata": {},
   "outputs": [],
   "source": [
    "context2='''久久是一隻柴犬\n",
    "她很可愛\n",
    "jjxx咒術很搞笑\n",
    "'''\n",
    "\n",
    "f=open('file2.txt','w',encoding='UTF-8')\n",
    "f.write(context2)\n",
    "f.close()"
   ]
  },
  {
   "cell_type": "code",
   "execution_count": 13,
   "metadata": {},
   "outputs": [
    {
     "name": "stdout",
     "output_type": "stream",
     "text": [
      "久久是一隻柴犬\n",
      "\n",
      "她很可\n"
     ]
    }
   ],
   "source": [
    "f=open('file2.txt','r',encoding='UTF-8')\n",
    "print(f.readline())\n",
    "print(f.readline(3))\n",
    "f.close()"
   ]
  },
  {
   "cell_type": "code",
   "execution_count": 14,
   "metadata": {},
   "outputs": [],
   "source": [
    "import ast"
   ]
  },
  {
   "cell_type": "code",
   "execution_count": 2,
   "metadata": {},
   "outputs": [
    {
     "name": "stderr",
     "output_type": "stream",
     "text": [
      "<>:91: SyntaxWarning: 'int' object is not callable; perhaps you missed a comma?\n",
      "<>:91: SyntaxWarning: 'int' object is not callable; perhaps you missed a comma?\n",
      "/tmp/ipykernel_25897/2181063217.py:91: SyntaxWarning: 'int' object is not callable; perhaps you missed a comma?\n",
      "  elif choice==4():\n",
      "sh: 1: cls: not found\n"
     ]
    },
    {
     "name": "stdout",
     "output_type": "stream",
     "text": [
      "帳號、密碼管理系統\n",
      "-------------------\n",
      "1.輸入帳號、密碼\n",
      "2.顯示帳號、密碼\n",
      "3.修改密碼\n",
      "4.刪除帳號、密碼\n",
      "0.結束程式\n",
      "----------------------\n",
      "\n",
      "jojo已被輸入完畢!\n",
      "jojo帳號已存在!\n",
      "jojo帳號已存在!\n",
      "0已被輸入完畢!\n"
     ]
    },
    {
     "name": "stderr",
     "output_type": "stream",
     "text": [
      "sh: 1: cls: not found\n"
     ]
    },
    {
     "name": "stdout",
     "output_type": "stream",
     "text": [
      "帳號、密碼管理系統\n",
      "-------------------\n",
      "1.輸入帳號、密碼\n",
      "2.顯示帳號、密碼\n",
      "3.修改密碼\n",
      "4.刪除帳號、密碼\n",
      "0.結束程式\n",
      "----------------------\n",
      "\n",
      "帳號\t密碼\n",
      "=============\n",
      "jojo\tchocolate\n",
      "0\tqwq\n"
     ]
    },
    {
     "name": "stderr",
     "output_type": "stream",
     "text": [
      "sh: 1: cls: not found\n"
     ]
    },
    {
     "name": "stdout",
     "output_type": "stream",
     "text": [
      "帳號、密碼管理系統\n",
      "-------------------\n",
      "1.輸入帳號、密碼\n",
      "2.顯示帳號、密碼\n",
      "3.修改密碼\n",
      "4.刪除帳號、密碼\n",
      "0.結束程式\n",
      "----------------------\n",
      "\n"
     ]
    },
    {
     "name": "stderr",
     "output_type": "stream",
     "text": [
      "sh: 1: cls: not found\n"
     ]
    },
    {
     "name": "stdout",
     "output_type": "stream",
     "text": [
      "帳號、密碼管理系統\n",
      "-------------------\n",
      "1.輸入帳號、密碼\n",
      "2.顯示帳號、密碼\n",
      "3.修改密碼\n",
      "4.刪除帳號、密碼\n",
      "0.結束程式\n",
      "----------------------\n",
      "\n",
      "帳號\t密碼\n",
      "=============\n",
      "jojo\tchocolate\n",
      "0\tqwq\n"
     ]
    },
    {
     "name": "stderr",
     "output_type": "stream",
     "text": [
      "sh: 1: cls: not found\n"
     ]
    },
    {
     "name": "stdout",
     "output_type": "stream",
     "text": [
      "帳號、密碼管理系統\n",
      "-------------------\n",
      "1.輸入帳號、密碼\n",
      "2.顯示帳號、密碼\n",
      "3.修改密碼\n",
      "4.刪除帳號、密碼\n",
      "0.結束程式\n",
      "----------------------\n",
      "\n",
      "原來密碼為:jojo\n"
     ]
    },
    {
     "name": "stderr",
     "output_type": "stream",
     "text": [
      "sh: 1: cls: not found\n"
     ]
    },
    {
     "name": "stdout",
     "output_type": "stream",
     "text": [
      "帳號、密碼管理系統\n",
      "-------------------\n",
      "1.輸入帳號、密碼\n",
      "2.顯示帳號、密碼\n",
      "3.修改密碼\n",
      "4.刪除帳號、密碼\n",
      "0.結束程式\n",
      "----------------------\n",
      "\n",
      "帳號\t密碼\n",
      "=============\n",
      "jojo\tchocolate\n",
      "0\tqwq\n"
     ]
    },
    {
     "name": "stderr",
     "output_type": "stream",
     "text": [
      "sh: 1: cls: not found\n"
     ]
    },
    {
     "name": "stdout",
     "output_type": "stream",
     "text": [
      "帳號、密碼管理系統\n",
      "-------------------\n",
      "1.輸入帳號、密碼\n",
      "2.顯示帳號、密碼\n",
      "3.修改密碼\n",
      "4.刪除帳號、密碼\n",
      "0.結束程式\n",
      "----------------------\n",
      "\n",
      "jojo帳號已存在!\n"
     ]
    },
    {
     "name": "stderr",
     "output_type": "stream",
     "text": [
      "sh: 1: cls: not found\n"
     ]
    },
    {
     "name": "stdout",
     "output_type": "stream",
     "text": [
      "帳號、密碼管理系統\n",
      "-------------------\n",
      "1.輸入帳號、密碼\n",
      "2.顯示帳號、密碼\n",
      "3.修改密碼\n",
      "4.刪除帳號、密碼\n",
      "0.結束程式\n",
      "----------------------\n",
      "\n",
      "原來密碼為:jojo\n"
     ]
    },
    {
     "name": "stderr",
     "output_type": "stream",
     "text": [
      "sh: 1: cls: not found\n"
     ]
    },
    {
     "name": "stdout",
     "output_type": "stream",
     "text": [
      "帳號、密碼管理系統\n",
      "-------------------\n",
      "1.輸入帳號、密碼\n",
      "2.顯示帳號、密碼\n",
      "3.修改密碼\n",
      "4.刪除帳號、密碼\n",
      "0.結束程式\n",
      "----------------------\n",
      "\n",
      "帳號\t密碼\n",
      "=============\n",
      "jojo\tcho\n",
      "0\tqwq\n"
     ]
    },
    {
     "name": "stderr",
     "output_type": "stream",
     "text": [
      "sh: 1: cls: not found\n"
     ]
    },
    {
     "name": "stdout",
     "output_type": "stream",
     "text": [
      "帳號、密碼管理系統\n",
      "-------------------\n",
      "1.輸入帳號、密碼\n",
      "2.顯示帳號、密碼\n",
      "3.修改密碼\n",
      "4.刪除帳號、密碼\n",
      "0.結束程式\n",
      "----------------------\n"
     ]
    },
    {
     "name": "stderr",
     "output_type": "stream",
     "text": [
      "/tmp/ipykernel_25897/2181063217.py:91: SyntaxWarning: 'int' object is not callable; perhaps you missed a comma?\n",
      "  elif choice==4():\n",
      "/tmp/ipykernel_25897/2181063217.py:91: SyntaxWarning: 'int' object is not callable; perhaps you missed a comma?\n",
      "  elif choice==4():\n",
      "/tmp/ipykernel_25897/2181063217.py:91: SyntaxWarning: 'int' object is not callable; perhaps you missed a comma?\n",
      "  elif choice==4():\n"
     ]
    },
    {
     "ename": "ValueError",
     "evalue": "invalid literal for int() with base 10: ''",
     "output_type": "error",
     "traceback": [
      "\u001b[0;31m---------------------------------------------------------------------------\u001b[0m",
      "\u001b[0;31mValueError\u001b[0m                                Traceback (most recent call last)",
      "Cell \u001b[0;32mIn[2], line 83\u001b[0m\n\u001b[1;32m     81\u001b[0m \u001b[38;5;28;01mwhile\u001b[39;00m \u001b[38;5;28;01mTrue\u001b[39;00m:\n\u001b[1;32m     82\u001b[0m     menu()\n\u001b[0;32m---> 83\u001b[0m     choice\u001b[38;5;241m=\u001b[39m \u001b[38;5;28;43mint\u001b[39;49m\u001b[43m(\u001b[49m\u001b[38;5;28;43minput\u001b[39;49m\u001b[43m(\u001b[49m\u001b[38;5;124;43m\"\u001b[39;49m\u001b[38;5;124;43m請輸入你的選擇:\u001b[39;49m\u001b[38;5;124;43m\"\u001b[39;49m\u001b[43m)\u001b[49m\u001b[43m)\u001b[49m\n\u001b[1;32m     84\u001b[0m     \u001b[38;5;28mprint\u001b[39m()\n\u001b[1;32m     85\u001b[0m     \u001b[38;5;28;01mif\u001b[39;00m choice\u001b[38;5;241m==\u001b[39m\u001b[38;5;241m1\u001b[39m:\n",
      "\u001b[0;31mValueError\u001b[0m: invalid literal for int() with base 10: ''"
     ]
    }
   ],
   "source": [
    "def menu():\n",
    "    os.system(\"cls\")\n",
    "    print(\"帳號、密碼管理系統\")\n",
    "    print('-------------------')\n",
    "    print(\"1.輸入帳號、密碼\")\n",
    "    print(\"2.顯示帳號、密碼\")\n",
    "    print(\"3.修改密碼\")\n",
    "    print(\"4.刪除帳號、密碼\")\n",
    "    print(\"0.結束程式\")\n",
    "    print(\"----------------------\")\n",
    "\n",
    "def ReadData():\n",
    "    with open(\"password.txt\",'r',encoding='UTF-8')as f:\n",
    "        filedata=f.read()\n",
    "        if filedata!='':\n",
    "            data=ast.literal_eval(filedata)\n",
    "            return data\n",
    "        else:\n",
    "            return dict()\n",
    "\n",
    "def disp_data():\n",
    "    print(\"帳號\\t密碼\")\n",
    "    print(\"=============\")\n",
    "    for key in data:\n",
    "        print(\"{}\\t{}\".format(key,data[key]))\n",
    "    input(\"按任意鍵返回主選單\")\n",
    "\n",
    "def input_data():\n",
    "    while True:\n",
    "        name=input(\"請輸入帳號(Enter====>停止輸入)\")\n",
    "        if name=='':\n",
    "            break\n",
    "        if name in data:\n",
    "            print(\"{}帳號已存在!\".format(name))\n",
    "            continue\n",
    "        password=input(\"請輸入密碼\")\n",
    "        data[name]=password\n",
    "        with open (\"password.txt\",'w',encoding='UTF-8')as f:\n",
    "            f.write(str(data))\n",
    "        print(\"{}已被輸入完畢!\".format(name))\n",
    "\n",
    "def edit_data():\n",
    "    while True:\n",
    "        name=input (\"請輸入要修改的帳號(Enter=====>停止輸入)\")\n",
    "        if name=='':\n",
    "            break\n",
    "        if not name in data:\n",
    "            print(\"{}帳號不存在!\".format(name))\n",
    "            continue\n",
    "        print(\"原來密碼為:{}\".format(name))\n",
    "        password=input(\"請輸入新密碼:\")\n",
    "        data[name]=password\n",
    "        with open(\"password.txt\",'w',encoding='UTF-8') as f:\n",
    "            f.write(str(data))\n",
    "            input(\"密碼修改完畢,按任意鍵返回主選單\")\n",
    "            break\n",
    "\n",
    "def delete_data():\n",
    "    while True:\n",
    "        name=input(\"請輸入要刪除的帳號(Enter=====>停止輸入)\")\n",
    "        if name=='':\n",
    "            break\n",
    "        if not name in data:\n",
    "            print(\"{}帳號不存在!\".format(name))\n",
    "            continue\n",
    "        print(\"確定刪除{}的資料!:\".format(name))\n",
    "        yn=input(\"(Y/N)?\")\n",
    "        if (yn ==\"Y\"or yn==\"y\"):\n",
    "            del data[name]\n",
    "            with open(\"password.txt\",'w',encoding='UTF-8')as f:\n",
    "                f.write(str(data))\n",
    "                input(\"刪除完畢,按任意鍵返回主選單\")\n",
    "                break\n",
    "\n",
    "####主程式開始###\n",
    "\n",
    "import os,ast\n",
    "data=dict()\n",
    "\n",
    "data=ReadData()\n",
    "while True:\n",
    "    menu()\n",
    "    choice= int(input(\"請輸入你的選擇:\"))\n",
    "    print()\n",
    "    if choice==1:\n",
    "        input_data()\n",
    "    elif choice==2:\n",
    "        disp_data()\n",
    "    elif choice==3:\n",
    "        edit_data()\n",
    "    elif choice==4():\n",
    "        delete_data()\n",
    "    else:\n",
    "        break\n",
    "\n",
    "print(\"程式執行完畢!\")"
   ]
  }
 ],
 "metadata": {
  "kernelspec": {
   "display_name": "Python 3",
   "language": "python",
   "name": "python3"
  },
  "language_info": {
   "codemirror_mode": {
    "name": "ipython",
    "version": 3
   },
   "file_extension": ".py",
   "mimetype": "text/x-python",
   "name": "python",
   "nbconvert_exporter": "python",
   "pygments_lexer": "ipython3",
   "version": "3.9.17"
  }
 },
 "nbformat": 4,
 "nbformat_minor": 2
}
