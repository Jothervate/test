{
 "cells": [
  {
   "cell_type": "code",
   "execution_count": 9,
   "metadata": {},
   "outputs": [
    {
     "name": "stdout",
     "output_type": "stream",
     "text": [
      "jojo!\n",
      "這是我最後的波紋!\n"
     ]
    }
   ],
   "source": [
    "str='jojo!\\n這是我最後的波紋!'\n",
    "print(str)"
   ]
  },
  {
   "cell_type": "code",
   "execution_count": 14,
   "metadata": {},
   "outputs": [
    {
     "name": "stdout",
     "output_type": "stream",
     "text": [
      "100&60"
     ]
    }
   ],
   "source": [
    "print(100,60,sep='&',end='')\n"
   ]
  },
  {
   "cell_type": "code",
   "execution_count": 15,
   "metadata": {},
   "outputs": [
    {
     "name": "stdout",
     "output_type": "stream",
     "text": [
      "巧巧的成績為70\n"
     ]
    }
   ],
   "source": [
    "name='巧巧'\n",
    "score=70\n",
    "print(\"%s的成績為%d\"%(name,score))"
   ]
  },
  {
   "cell_type": "code",
   "execution_count": 3,
   "metadata": {},
   "outputs": [
    {
     "name": "stdout",
     "output_type": "stream",
     "text": [
      "價格為   82.35\n"
     ]
    }
   ],
   "source": [
    "price=82.3451\n",
    "print('價格為%8.2f'%price)"
   ]
  },
  {
   "cell_type": "code",
   "execution_count": 6,
   "metadata": {},
   "outputs": [
    {
     "name": "stdout",
     "output_type": "stream",
     "text": [
      "<class 'int'>\n",
      "<class 'str'>\n",
      "<class 'bool'>\n"
     ]
    }
   ],
   "source": [
    "print(type(56))\n",
    "print(type('HOW are you'))\n",
    "print(type(True))"
   ]
  },
  {
   "cell_type": "code",
   "execution_count": 9,
   "metadata": {},
   "outputs": [
    {
     "data": {
      "text/plain": [
       "6"
      ]
     },
     "execution_count": 9,
     "metadata": {},
     "output_type": "execute_result"
    }
   ],
   "source": [
    "num=5+True\n",
    "num"
   ]
  },
  {
   "cell_type": "code",
   "execution_count": 11,
   "metadata": {},
   "outputs": [
    {
     "data": {
      "text/plain": [
       "80"
      ]
     },
     "execution_count": 11,
     "metadata": {},
     "output_type": "execute_result"
    }
   ],
   "source": [
    "num2=23+int('57')\n",
    "num2"
   ]
  },
  {
   "cell_type": "code",
   "execution_count": 14,
   "metadata": {},
   "outputs": [
    {
     "name": "stdout",
     "output_type": "stream",
     "text": [
      "JOJO的成績為65\n"
     ]
    }
   ],
   "source": [
    "score=65\n",
    "print('JOJO的成績為'+str(score))"
   ]
  },
  {
   "cell_type": "code",
   "execution_count": 9,
   "metadata": {},
   "outputs": [
    {
     "name": "stdout",
     "output_type": "stream",
     "text": [
      "222\n"
     ]
    }
   ],
   "source": [
    "score=input(\"請輸入數學成績:\")\n",
    "\n",
    "print(score)"
   ]
  },
  {
   "cell_type": "code",
   "execution_count": 11,
   "metadata": {},
   "outputs": [
    {
     "data": {
      "text/plain": [
       "True"
      ]
     },
     "execution_count": 11,
     "metadata": {},
     "output_type": "execute_result"
    }
   ],
   "source": [
    "8+9==17"
   ]
  },
  {
   "cell_type": "code",
   "execution_count": 12,
   "metadata": {},
   "outputs": [
    {
     "name": "stdout",
     "output_type": "stream",
     "text": [
      "成績:204,平均:68.00\n"
     ]
    }
   ],
   "source": [
    "nat=input(\"請輸入國文成績:\")\n",
    "math=input(\"請輸入數學成績:\")\n",
    "eng=input(\"請輸入英文成績:\")\n",
    "sum=int(nat)+int(math)+int(eng)\n",
    "average=sum/3\n",
    "print(\"成績:%d,平均:%5.2f\"%(sum,average))"
   ]
  },
  {
   "cell_type": "code",
   "execution_count": 14,
   "metadata": {},
   "outputs": [
    {
     "name": "stdout",
     "output_type": "stream",
     "text": [
      "密碼不正確!讓我看看你發育正不正常!\n"
     ]
    }
   ],
   "source": [
    "pw=input(\"請輸入密碼:\")\n",
    "if(pw==\"1235\"):\n",
    "    print('歡迎!')\n",
    "else:\n",
    "    print('密碼不正確!讓我看看你發育正不正常!')"
   ]
  },
  {
   "cell_type": "code",
   "execution_count": 8,
   "metadata": {},
   "outputs": [
    {
     "name": "stdout",
     "output_type": "stream",
     "text": [
      "8000.0元\n"
     ]
    }
   ],
   "source": [
    "money=int(input('請輸入購物金額:'))\n",
    "if(money>=1000):\n",
    "    if(money>=10000):\n",
    "        print(str(money*0.8),end='元\\n')\n",
    "    elif(money>=5000):\n",
    "        print(str(money*0.85),end='元\\n')\n",
    "    elif(money>=3000):\n",
    "        print(str(money*0.9),end=\"元\\n\")\n",
    "    else:\n",
    "        print(str(money*0.95),end=\"元\\n\")\n",
    "else:\n",
    "    print(str(money),end=\"元\\n\")"
   ]
  }
 ],
 "metadata": {
  "kernelspec": {
   "display_name": "Python 3",
   "language": "python",
   "name": "python3"
  },
  "language_info": {
   "codemirror_mode": {
    "name": "ipython",
    "version": 3
   },
   "file_extension": ".py",
   "mimetype": "text/x-python",
   "name": "python",
   "nbconvert_exporter": "python",
   "pygments_lexer": "ipython3",
   "version": "3.9.17"
  }
 },
 "nbformat": 4,
 "nbformat_minor": 2
}
