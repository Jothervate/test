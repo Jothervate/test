{
 "cells": [
  {
   "cell_type": "code",
   "execution_count": null,
   "metadata": {},
   "outputs": [],
   "source": [
    "a = 15 \n",
    "while a > 0:\n",
    "\tprint(a) \n",
    "\ta -= 2"
   ]
  },
  {
   "cell_type": "code",
   "execution_count": null,
   "metadata": {},
   "outputs": [],
   "source": [
    "a=15\n",
    "while a>0:\n",
    "    print(a)\n",
    "    a-=2"
   ]
  },
  {
   "cell_type": "code",
   "execution_count": null,
   "metadata": {},
   "outputs": [],
   "source": [
    "#while1.py\n",
    "\n",
    "\n",
    "a=6\n",
    "while a > 0:\n",
    "\tprint(a)\n",
    "\ta -= 1 \n",
    "print(\"離開後a為\",a)\n"
   ]
  },
  {
   "cell_type": "code",
   "execution_count": null,
   "metadata": {},
   "outputs": [],
   "source": [
    "#簡單列印1~5\n",
    "#這樣的使用等同於c語言的的 for(int count=1;count<=5;count+=1)\n",
    "#使用時機明確的知道要執行多少次迴圈\n",
    "\n",
    "count = 1\n",
    "while count <= 5:\n",
    "\tprint(count)\n",
    "\tcount += 1 \n"
   ]
  },
  {
   "cell_type": "code",
   "execution_count": null,
   "metadata": {},
   "outputs": [],
   "source": [
    "count=1\n",
    "while count<=5:\n",
    "    print(count)\n",
    "    count+=1"
   ]
  },
  {
   "cell_type": "code",
   "execution_count": null,
   "metadata": {},
   "outputs": [],
   "source": [
    "sum = 0\n",
    "i = 2\n",
    "while(i <= 10):\n",
    "    sum += i\n",
    "    print(\"第\",i/2,\"次迴圈的i =\",i,\"總和為\", sum);\n",
    "    i += 2"
   ]
  },
  {
   "cell_type": "code",
   "execution_count": null,
   "metadata": {},
   "outputs": [],
   "source": [
    "sum=0\n",
    "i=2\n",
    "while(i<=10):\n",
    "    sum+=i\n",
    "    print(\"第\",i/2,\"次迴圈的i=\",i,\"總和為\",sum);\n",
    "    i+=2"
   ]
  },
  {
   "cell_type": "markdown",
   "metadata": {},
   "source": [
    "顯示:\n",
    "請輸入星期1 的支出567\n",
    "請輸入星期2 的支出456\n",
    "請輸入星期3 的支出567\n",
    "請輸入星期4 的支出890\n",
    "請輸入星期5 的支出345\n",
    "請輸入星期6 的支出534\n",
    "請輸入星期日 的支出678\n",
    "本星期的支出為:4037元"
   ]
  },
  {
   "cell_type": "code",
   "execution_count": null,
   "metadata": {},
   "outputs": [],
   "source": [
    "sum =0;\n",
    "i = 1;\n",
    "while(True):\n",
    "    if(i==7):\n",
    "        n = int(input('請輸入星期日的支出:'))\n",
    "    \n",
    "    else:\n",
    "        output = \"請輸入星期\" + str(i) + \"的支出:\"\n",
    "        n = int(input(output))\n",
    "    sum += n\n",
    "    i += 1\n",
    "    \n",
    "print(\"本星期的支出為:\",sum,\"元\")"
   ]
  },
  {
   "cell_type": "code",
   "execution_count": null,
   "metadata": {},
   "outputs": [],
   "source": [
    "for i in range(1,11,3):\n",
    "    print(i)"
   ]
  },
  {
   "cell_type": "code",
   "execution_count": null,
   "metadata": {},
   "outputs": [],
   "source": [
    "r=range(0,20,2)\n",
    "12 in r"
   ]
  },
  {
   "cell_type": "code",
   "execution_count": null,
   "metadata": {},
   "outputs": [],
   "source": [
    "for i in range(1,10):\n",
    "    #print(f\"i={i}\")\n",
    "    for j in range(1,10):\n",
    "        print(f\"{i}*{j}={i*j}\",end=\" \")\n",
    "    print(\"\\n\")"
   ]
  },
  {
   "cell_type": "code",
   "execution_count": null,
   "metadata": {},
   "outputs": [],
   "source": [
    "deposit=0\n",
    "months=0\n",
    "\n",
    "while(deposit<30000):\n",
    "    months += 1\n",
    "    value = int(input(f\"請輸入第{months}個月的存款:\"))\n",
    "    deposit += value\n",
    "    \n",
    "print=(f\"已經存夠了,存了{months}月的存款,共{deposit}元\")"
   ]
  },
  {
   "cell_type": "code",
   "execution_count": null,
   "metadata": {},
   "outputs": [],
   "source": [
    "deposit = 0\n",
    "months = 0\n",
    "while(deposit<30000):\n",
    "    months += 1\n",
    "    value = int(input(f\"請輸入第{months}月份的存款:\"))\n",
    "    deposit += value\n",
    "    \n",
    "print(f\"已經存夠了,存了{months}個月,總存了{deposit}元\")"
   ]
  }
 ],
 "metadata": {
  "kernelspec": {
   "display_name": "Python 3",
   "language": "python",
   "name": "python3"
  },
  "language_info": {
   "codemirror_mode": {
    "name": "ipython",
    "version": 3
   },
   "file_extension": ".py",
   "mimetype": "text/x-python",
   "name": "python",
   "nbconvert_exporter": "python",
   "pygments_lexer": "ipython3",
   "version": "3.10.8"
  },
  "orig_nbformat": 4
 },
 "nbformat": 4,
 "nbformat_minor": 2
}
