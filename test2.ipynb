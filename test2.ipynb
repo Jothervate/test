{
 "cells": [
  {
   "cell_type": "code",
   "execution_count": 1,
   "metadata": {},
   "outputs": [
    {
     "name": "stdout",
     "output_type": "stream",
     "text": [
      "15\n",
      "13\n",
      "11\n",
      "9\n",
      "7\n",
      "5\n",
      "3\n",
      "1\n"
     ]
    }
   ],
   "source": [
    "a = 15 \n",
    "while a > 0:\n",
    "\tprint(a) \n",
    "\ta -= 2"
   ]
  },
  {
   "cell_type": "code",
   "execution_count": 6,
   "metadata": {},
   "outputs": [
    {
     "name": "stdout",
     "output_type": "stream",
     "text": [
      "15\n",
      "13\n",
      "11\n",
      "9\n",
      "7\n",
      "5\n",
      "3\n",
      "1\n"
     ]
    }
   ],
   "source": [
    "a=15\n",
    "while a>0:\n",
    "    print(a)\n",
    "    a-=2"
   ]
  },
  {
   "cell_type": "code",
   "execution_count": 2,
   "metadata": {},
   "outputs": [
    {
     "name": "stdout",
     "output_type": "stream",
     "text": [
      "6\n",
      "5\n",
      "4\n",
      "3\n",
      "2\n",
      "1\n",
      "離開後a為 0\n"
     ]
    }
   ],
   "source": [
    "#while1.py\n",
    "\n",
    "\n",
    "a=6\n",
    "while a > 0:\n",
    "\tprint(a)\n",
    "\ta -= 1 \n",
    "print(\"離開後a為\",a)\n"
   ]
  },
  {
   "cell_type": "code",
   "execution_count": 5,
   "metadata": {},
   "outputs": [
    {
     "name": "stdout",
     "output_type": "stream",
     "text": [
      "1\n",
      "2\n",
      "3\n",
      "4\n",
      "5\n"
     ]
    }
   ],
   "source": [
    "#簡單列印1~5\n",
    "#這樣的使用等同於c語言的的 for(int count=1;count<=5;count+=1)\n",
    "#使用時機明確的知道要執行多少次迴圈\n",
    "\n",
    "count = 1\n",
    "while count <= 5:\n",
    "\tprint(count)\n",
    "\tcount += 1 \n"
   ]
  },
  {
   "cell_type": "code",
   "execution_count": 8,
   "metadata": {},
   "outputs": [
    {
     "name": "stdout",
     "output_type": "stream",
     "text": [
      "1\n",
      "2\n",
      "3\n",
      "4\n",
      "5\n"
     ]
    }
   ],
   "source": [
    "count=1\n",
    "while count<=5:\n",
    "    print(count)\n",
    "    count+=1"
   ]
  },
  {
   "cell_type": "code",
   "execution_count": null,
   "metadata": {},
   "outputs": [
    {
     "name": "stdout",
     "output_type": "stream",
     "text": [
      "第 1.0 次迴圈的i = 2 總和為 2\n",
      "第 2.0 次迴圈的i = 4 總和為 6\n",
      "第 3.0 次迴圈的i = 6 總和為 12\n",
      "第 4.0 次迴圈的i = 8 總和為 20\n",
      "第 5.0 次迴圈的i = 10 總和為 30\n"
     ]
    }
   ],
   "source": [
    "sum = 0\n",
    "i = 2\n",
    "while(i <= 10):\n",
    "    sum += i\n",
    "    print(\"第\",i/2,\"次迴圈的i =\",i,\"總和為\", sum);\n",
    "    i += 2"
   ]
  },
  {
   "cell_type": "code",
   "execution_count": 3,
   "metadata": {},
   "outputs": [
    {
     "name": "stdout",
     "output_type": "stream",
     "text": [
      "第 1.0 次迴圈的i= 2 總和為 2\n",
      "第 2.0 次迴圈的i= 4 總和為 6\n",
      "第 3.0 次迴圈的i= 6 總和為 12\n",
      "第 4.0 次迴圈的i= 8 總和為 20\n",
      "第 5.0 次迴圈的i= 10 總和為 30\n"
     ]
    }
   ],
   "source": [
    "sum=0\n",
    "i=2\n",
    "while(i<=10):\n",
    "    sum+=i\n",
    "    print(\"第\",i/2,\"次迴圈的i=\",i,\"總和為\",sum);\n",
    "    i+=2"
   ]
  },
  {
   "cell_type": "markdown",
   "metadata": {},
   "source": [
    "顯示:\n",
    "請輸入星期1 的支出567\n",
    "請輸入星期2 的支出456\n",
    "請輸入星期3 的支出567\n",
    "請輸入星期4 的支出890\n",
    "請輸入星期5 的支出345\n",
    "請輸入星期6 的支出534\n",
    "請輸入星期日 的支出678\n",
    "本星期的支出為:4037元"
   ]
  },
  {
   "cell_type": "code",
   "execution_count": 7,
   "metadata": {},
   "outputs": [
    {
     "name": "stdout",
     "output_type": "stream",
     "text": [
      "本星期的支出為: 567 元\n",
      "本星期的支出為: 1023 元\n",
      "本星期的支出為: 1590 元\n",
      "本星期的支出為: 2480 元\n",
      "本星期的支出為: 2825 元\n",
      "本星期的支出為: 3359 元\n"
     ]
    }
   ],
   "source": [
    "sum=0;\n",
    "i=1;\n",
    "while(True):\n",
    "    if(i==7):\n",
    "        n=int(input(\"請輸入星期日的支出:\"))\n",
    "        break\n",
    "    else:\n",
    "        output=\"請輸入星期\"+str(i)+\"的支出\"\n",
    "        n=int(input(output))\n",
    "    sum+=n\n",
    "    i+=1\n",
    "    \n",
    "    print(\"本星期的支出為:\",sum,\"元\")"
   ]
  },
  {
   "cell_type": "code",
   "execution_count": 8,
   "metadata": {},
   "outputs": [
    {
     "name": "stdout",
     "output_type": "stream",
     "text": [
      "本星期的支出為: 2997 元\n"
     ]
    }
   ],
   "source": [
    "sum = 0;\n",
    "i = 1;\n",
    "while(True):\n",
    "    if(i==7):\n",
    "        n = int(input('請輸入星期日的支出:'))\n",
    "        break\n",
    "    else:\n",
    "        output = \"請輸入星期\" + str(i) + \"的支出:\"\n",
    "        n = int(input(output))\n",
    "    sum += n\n",
    "    i += 1\n",
    "\n",
    "\n",
    "\n",
    "print(\"本星期的支出為:\",sum,\"元\")"
   ]
  }
 ],
 "metadata": {
  "kernelspec": {
   "display_name": "Python 3",
   "language": "python",
   "name": "python3"
  },
  "language_info": {
   "codemirror_mode": {
    "name": "ipython",
    "version": 3
   },
   "file_extension": ".py",
   "mimetype": "text/x-python",
   "name": "python",
   "nbconvert_exporter": "python",
   "pygments_lexer": "ipython3",
   "version": "3.10.8"
  },
  "orig_nbformat": 4
 },
 "nbformat": 4,
 "nbformat_minor": 2
}
