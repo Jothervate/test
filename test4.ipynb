{
 "cells": [
  {
   "cell_type": "code",
   "execution_count": 2,
   "metadata": {},
   "outputs": [
    {
     "name": "stdout",
     "output_type": "stream",
     "text": [
      "Hello world!\n",
      "Today is a fucking American's day!\n",
      "I'm feel very osu!\n",
      "AAAAAAAA!\n"
     ]
    }
   ],
   "source": [
    "print(\"Hello world!\\nToday is a fucking American's day!\\nI\\'m feel very osu!\\nAAAAAAAA!\")"
   ]
  },
  {
   "cell_type": "code",
   "execution_count": 3,
   "metadata": {},
   "outputs": [
    {
     "name": "stdout",
     "output_type": "stream",
     "text": [
      "雞你太美\\'s 厲不厲害你坤哥\n"
     ]
    }
   ],
   "source": [
    "print(r'雞你太美\\'s 厲不厲害你坤哥')"
   ]
  },
  {
   "cell_type": "code",
   "execution_count": 8,
   "metadata": {},
   "outputs": [
    {
     "name": "stdout",
     "output_type": "stream",
     "text": [
      "Dear kuengkueng, your chicken is make me feel better(osu). Do you like want to see? That's gooood!\n"
     ]
    }
   ],
   "source": [
    "sentence=\"Dear kuengkueng,\\\n",
    " your chicken is make me feel better(osu).\\\n",
    " Do you like want to see?\\\n",
    " That's gooood!\"\n",
    "\n",
    "print(sentence)"
   ]
  },
  {
   "cell_type": "code",
   "execution_count": 9,
   "metadata": {},
   "outputs": [
    {
     "name": "stdout",
     "output_type": "stream",
     "text": [
      "蔡徐坤，你以為我們都是小黑子嗎？\n",
      "錯啦！我們都是最愛你的人！\n",
      "我對你的德國雞腿堡（osu）至今仍然念念不忘，\n",
      "I feeling it's better!\n",
      "That's good!\n",
      "I like it!\n"
     ]
    }
   ],
   "source": [
    "sentence='''蔡徐坤，你以為我們都是小黑子嗎？\n",
    "錯啦！我們都是最愛你的人！\n",
    "我對你的德國雞腿堡（osu）至今仍然念念不忘，\n",
    "I feeling it's better!\n",
    "That's good!\n",
    "I like it!'''\n",
    "\n",
    "print(sentence)"
   ]
  },
  {
   "cell_type": "code",
   "execution_count": 10,
   "metadata": {},
   "outputs": [
    {
     "data": {
      "text/plain": [
       "'This is a test Python program.\\nWritten by Al robert robert@gmail.com\\nThis program was designed for Python 3, not Python 2.\\n'"
      ]
     },
     "execution_count": 10,
     "metadata": {},
     "output_type": "execute_result"
    }
   ],
   "source": [
    " \"\"\"This is a test Python program.\n",
    "Written by Al robert robert@gmail.com\n",
    "This program was designed for Python 3, not Python 2.\n",
    "\"\"\""
   ]
  },
  {
   "cell_type": "code",
   "execution_count": 18,
   "metadata": {},
   "outputs": [
    {
     "ename": "TypeError",
     "evalue": "'str' object does not support item assignment",
     "output_type": "error",
     "traceback": [
      "\u001b[0;31m---------------------------------------------------------------------------\u001b[0m",
      "\u001b[0;31mTypeError\u001b[0m                                 Traceback (most recent call last)",
      "Cell \u001b[0;32mIn[18], line 2\u001b[0m\n\u001b[1;32m      1\u001b[0m letters\u001b[39m=\u001b[39m\u001b[39m'\u001b[39m\u001b[39m醫一世，誤一時，一九依舊霸已凌\u001b[39m\u001b[39m'\u001b[39m\n\u001b[0;32m----> 2\u001b[0m letters[\u001b[39m0\u001b[39;49m]\u001b[39m=\u001b[39m\u001b[39m'\u001b[39m\u001b[39m一\u001b[39m\u001b[39m'\u001b[39m\n",
      "\u001b[0;31mTypeError\u001b[0m: 'str' object does not support item assignment"
     ]
    }
   ],
   "source": [
    "letters='醫一世，誤一時，一九依舊霸已凌'\n",
    "letters[0]='一'"
   ]
  }
 ],
 "metadata": {
  "kernelspec": {
   "display_name": "Python 3",
   "language": "python",
   "name": "python3"
  },
  "language_info": {
   "codemirror_mode": {
    "name": "ipython",
    "version": 3
   },
   "file_extension": ".py",
   "mimetype": "text/x-python",
   "name": "python",
   "nbconvert_exporter": "python",
   "pygments_lexer": "ipython3",
   "version": "3.10.8"
  },
  "orig_nbformat": 4
 },
 "nbformat": 4,
 "nbformat_minor": 2
}
