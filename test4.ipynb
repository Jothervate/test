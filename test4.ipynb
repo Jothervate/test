{
 "cells": [
  {
   "cell_type": "code",
   "execution_count": 2,
   "metadata": {},
   "outputs": [
    {
     "name": "stdout",
     "output_type": "stream",
     "text": [
      "Hello world!\n",
      "Today is a fucking American's day!\n",
      "I'm feel very osu!\n",
      "AAAAAAAA!\n"
     ]
    }
   ],
   "source": [
    "print(\"Hello world!\\nToday is a fucking American's day!\\nI\\'m feel very osu!\\nAAAAAAAA!\")"
   ]
  },
  {
   "cell_type": "code",
   "execution_count": 3,
   "metadata": {},
   "outputs": [
    {
     "name": "stdout",
     "output_type": "stream",
     "text": [
      "雞你太美\\'s 厲不厲害你坤哥\n"
     ]
    }
   ],
   "source": [
    "print(r'雞你太美\\'s 厲不厲害你坤哥')"
   ]
  },
  {
   "cell_type": "code",
   "execution_count": 2,
   "metadata": {},
   "outputs": [
    {
     "name": "stdout",
     "output_type": "stream",
     "text": [
      "Dear kuengkueng, your chicken is make me feel better(♂). Do you like want to see?(♂) That's gooood!\n"
     ]
    }
   ],
   "source": [
    "sentence=\"Dear kuengkueng,\\\n",
    " your chicken is make me feel better(♂).\\\n",
    " Do you like want to see?(♂)\\\n",
    " That's gooood!\"\n",
    "\n",
    "print(sentence)"
   ]
  },
  {
   "cell_type": "code",
   "execution_count": 1,
   "metadata": {},
   "outputs": [
    {
     "name": "stdout",
     "output_type": "stream",
     "text": [
      "蔡徐坤，你以為我們都是小黑子嗎？\n",
      "錯啦！我們都是最愛你的人！\n",
      "我對你的德國雞腿堡（♂）至今仍然念念不忘，\n",
      "I feeling it's better!\n",
      "That's good!\n",
      "I like it!\n"
     ]
    }
   ],
   "source": [
    "sentence='''蔡徐坤，你以為我們都是小黑子嗎？\n",
    "錯啦！我們都是最愛你的人！\n",
    "我對你的德國雞腿堡（♂）至今仍然念念不忘，\n",
    "I feeling it's better!\n",
    "That's good!\n",
    "I like it!'''\n",
    "\n",
    "print(sentence)"
   ]
  },
  {
   "cell_type": "code",
   "execution_count": 10,
   "metadata": {},
   "outputs": [
    {
     "data": {
      "text/plain": [
       "'This is a test Python program.\\nWritten by Al robert robert@gmail.com\\nThis program was designed for Python 3, not Python 2.\\n'"
      ]
     },
     "execution_count": 10,
     "metadata": {},
     "output_type": "execute_result"
    }
   ],
   "source": [
    " \"\"\"This is a test Python program.\n",
    "Written by Al robert robert@gmail.com\n",
    "This program was designed for Python 3, not Python 2.\n",
    "\"\"\""
   ]
  },
  {
   "cell_type": "code",
   "execution_count": 6,
   "metadata": {},
   "outputs": [
    {
     "data": {
      "text/plain": [
       "'醫一世'"
      ]
     },
     "execution_count": 6,
     "metadata": {},
     "output_type": "execute_result"
    }
   ],
   "source": [
    "letters='醫一世，誤一時，一九依舊霸已凌'\n",
    "\n",
    "letters[:3]"
   ]
  },
  {
   "cell_type": "code",
   "execution_count": 16,
   "metadata": {},
   "outputs": [
    {
     "name": "stdout",
     "output_type": "stream",
     "text": [
      "聽話!乖乖站好（♂）!Make it boy! AAA! I can't hold myself!AAAAA!(♂)\n"
     ]
    }
   ],
   "source": [
    "letters='聽話!乖乖站好（♂）!Make it boy! AAA! I can\\'t hold myself!AAAAA!(♂)'\n",
    "\n",
    "print(letters)"
   ]
  },
  {
   "cell_type": "code",
   "execution_count": 22,
   "metadata": {},
   "outputs": [
    {
     "data": {
      "text/plain": [
       "'聽站! o'"
      ]
     },
     "execution_count": 22,
     "metadata": {},
     "output_type": "execute_result"
    }
   ],
   "source": [
    "letters='聽話!乖乖站好（♂）!Make it boy! AAA! I can\\'t hold myself!AAAAA!(♂)'\n",
    "\n",
    "letters[:21:5]"
   ]
  },
  {
   "cell_type": "code",
   "execution_count": 26,
   "metadata": {},
   "outputs": [
    {
     "data": {
      "text/plain": [
       "'所村浩二'"
      ]
     },
     "execution_count": 26,
     "metadata": {},
     "output_type": "execute_result"
    }
   ],
   "source": [
    "name='田村浩二'\n",
    "'所'+name[1:]\n",
    "\n"
   ]
  },
  {
   "cell_type": "code",
   "execution_count": 28,
   "metadata": {},
   "outputs": [
    {
     "name": "stdout",
     "output_type": "stream",
     "text": [
      "This is a home(。), which lives a sembai(。) in this way , everybody like him (。).\n",
      "\n",
      "This is a home(♂), which lives a sembai(♂) in this way , everybody like him (♂).\n",
      "\n"
     ]
    }
   ],
   "source": [
    "str1='This is a home(。), which lives a sembai(。) in this way , everybody like him (。).'\n",
    "\n",
    "print(str1)\n",
    "\n",
    "print()\n",
    "\n",
    "print(str1.replace(\"。\",\"♂\"))\n",
    "\n",
    "print()"
   ]
  },
  {
   "cell_type": "code",
   "execution_count": 33,
   "metadata": {},
   "outputs": [
    {
     "name": "stdout",
     "output_type": "stream",
     "text": [
      "10\n"
     ]
    }
   ],
   "source": [
    "str1=\"いいよ、こうれ！行きいぐいぐいぐあああああ！\"\n",
    "search=\"fuck me!\"\n",
    "search2=\"い\"\n",
    "print(str1.find(search2,4,20))"
   ]
  },
  {
   "cell_type": "code",
   "execution_count": 35,
   "metadata": {},
   "outputs": [
    {
     "name": "stdout",
     "output_type": "stream",
     "text": [
      "A!♂Yes!♂Fxxk!\n"
     ]
    }
   ],
   "source": [
    "str1=(\"♂\")\n",
    "str2=(\"A!\",\"Yes!\",\"Fxxk!\")\n",
    "print(str1.join(str2))"
   ]
  },
  {
   "cell_type": "code",
   "execution_count": 36,
   "metadata": {},
   "outputs": [
    {
     "name": "stdout",
     "output_type": "stream",
     "text": [
      "e-a-t- -m-e-?\n"
     ]
    }
   ],
   "source": [
    "str1=\"-\".join(\"eat me?\")\n",
    "print(str1)"
   ]
  },
  {
   "cell_type": "code",
   "execution_count": 37,
   "metadata": {},
   "outputs": [
    {
     "name": "stdout",
     "output_type": "stream",
     "text": [
      "['JOJO!', ' Korewa', ' oreno', ' seigono', ' hamunda!', ' ']\n"
     ]
    }
   ],
   "source": [
    "str4=\"JOJO!-- Korewa-- oreno-- seigono-- hamunda!-- \"\n",
    "print(str4.split(\"--\"))"
   ]
  },
  {
   "cell_type": "code",
   "execution_count": 38,
   "metadata": {},
   "outputs": [
    {
     "data": {
      "text/plain": [
       "['Isayoi', '', 'sakuya ', '', 'is my wife', '', '.']"
      ]
     },
     "execution_count": 38,
     "metadata": {},
     "output_type": "execute_result"
    }
   ],
   "source": [
    "str='Isayoi--sakuya --is my wife--.'\n",
    "str.split(\"-\")"
   ]
  },
  {
   "cell_type": "code",
   "execution_count": 43,
   "metadata": {},
   "outputs": [
    {
     "name": "stdout",
     "output_type": "stream",
     "text": [
      "Your wish homo book list: Love,peace,♂\n"
     ]
    }
   ],
   "source": [
    "Book_list=[\"Love\",\"peace\",\"♂\"]\n",
    "Book_strong=\",\".join(Book_list)\n",
    "print(\"Your wish homo book list:\",(Book_strong))"
   ]
  },
  {
   "cell_type": "code",
   "execution_count": 7,
   "metadata": {},
   "outputs": [
    {
     "data": {
      "text/plain": [
       "True"
      ]
     },
     "execution_count": 7,
     "metadata": {},
     "output_type": "execute_result"
    }
   ],
   "source": [
    "poem = '''All that doth flow we cannot liquid name Or else would fire and water be the same;\n",
    "But that is liquid which is moist and wet Fire that property can never get. Then 'tis not cold that doth the fire put out But 'tis the wet that makes it die, no doubt.'''\n",
    "\n",
    "poem.endswith('no doubt.')\n",
    "\n",
    "\n"
   ]
  },
  {
   "cell_type": "code",
   "execution_count": 19,
   "metadata": {},
   "outputs": [
    {
     "data": {
      "text/plain": [
       "'                         a duck go into the bar...'"
      ]
     },
     "execution_count": 19,
     "metadata": {},
     "output_type": "execute_result"
    }
   ],
   "source": [
    "setup='a duck go into the bar...'\n",
    "\n",
    "setup.rjust(50)\n"
   ]
  },
  {
   "cell_type": "code",
   "execution_count": 23,
   "metadata": {},
   "outputs": [
    {
     "data": {
      "text/plain": [
       "True"
      ]
     },
     "execution_count": 23,
     "metadata": {},
     "output_type": "execute_result"
    }
   ],
   "source": [
    "'JOhon'.isalnum()"
   ]
  },
  {
   "cell_type": "code",
   "execution_count": 27,
   "metadata": {},
   "outputs": [
    {
     "name": "stdout",
     "output_type": "stream",
     "text": [
      "請輸入年齡:\n",
      "請輸入密碼:(只可以是數字或英文)\n",
      "12\n",
      "32pp\n"
     ]
    }
   ],
   "source": [
    "while True:\n",
    "    print(\"請輸入年齡:\")\n",
    "    age=input()\n",
    "    if age.isdecimal():\n",
    "        break\n",
    "    print('請輸入一個數字')\n",
    "\n",
    "while(True):\n",
    "    print(\"請輸入密碼:(只可以是數字或英文)\")\n",
    "    password=input()\n",
    "    if password.isalnum():\n",
    "        break\n",
    "    print(\"密碼只可以是數字或英文\")\n",
    "    \n",
    "print(age)\n",
    "print(password)"
   ]
  },
  {
   "cell_type": "code",
   "execution_count": 4,
   "metadata": {},
   "outputs": [
    {
     "name": "stdout",
     "output_type": "stream",
     "text": [
      "-----PICNIC ITEMS----\n",
      "sandwiches..........4\n",
      "apples..............12\n",
      "cups................4\n",
      "cookies.............8000\n"
     ]
    }
   ],
   "source": [
    "def printpicnic(itemsDict,leftWidth,rightWidth):\n",
    "    print('PICNIC ITEMS'.center(leftWidth+rightWidth,\"-\"))\n",
    "    for k,v in itemsDict.items():\n",
    "        print(k.ljust(leftWidth,\".\")+str(v).rjust(rightWidth))\n",
    "picnicItem={\"sandwiches\":4,\"apples\":12,\"cups\":4,\"cookies\":8000}\n",
    "printpicnic(picnicItem,20,1)"
   ]
  },
  {
   "cell_type": "code",
   "execution_count": 16,
   "metadata": {},
   "outputs": [
    {
     "data": {
      "text/plain": [
       "'僕の名前は JOJO ,今では 15 歳です'"
      ]
     },
     "execution_count": 16,
     "metadata": {},
     "output_type": "execute_result"
    }
   ],
   "source": [
    "name=\"JOJO\"\n",
    "age=15\n",
    "f'僕の名前は {name} ,今では {age} 歳です'"
   ]
  },
  {
   "cell_type": "code",
   "execution_count": null,
   "metadata": {},
   "outputs": [],
   "source": []
  }
 ],
 "metadata": {
  "kernelspec": {
   "display_name": "Python 3",
   "language": "python",
   "name": "python3"
  },
  "language_info": {
   "codemirror_mode": {
    "name": "ipython",
    "version": 3
   },
   "file_extension": ".py",
   "mimetype": "text/x-python",
   "name": "python",
   "nbconvert_exporter": "python",
   "pygments_lexer": "ipython3",
   "version": "3.10.8"
  },
  "orig_nbformat": 4
 },
 "nbformat": 4,
 "nbformat_minor": 2
}
