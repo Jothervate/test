{
 "cells": [
  {
   "cell_type": "code",
   "execution_count": 5,
   "metadata": {},
   "outputs": [
    {
     "name": "stdout",
     "output_type": "stream",
     "text": [
      "13\n"
     ]
    }
   ],
   "source": [
    "a=15\n",
    "if a>=14:\n",
    "    a-=2\n",
    "    print(a)"
   ]
  },
  {
   "cell_type": "code",
   "execution_count": 5,
   "metadata": {},
   "outputs": [
    {
     "name": "stdout",
     "output_type": "stream",
     "text": [
      "300\n"
     ]
    }
   ],
   "source": [
    "scores =int(input(\"學生分數(最高300分):\"))\n",
    "is_add=input(\"學生是否符合加分條件?(y,n)\")\n",
    "\n",
    "if (is_add==\"y\"):\n",
    "    scores*=1.05\n",
    "    if scores>300:\n",
    "        scores=300\n",
    "        \n",
    "print(round(scores))"
   ]
  },
  {
   "cell_type": "code",
   "execution_count": 17,
   "metadata": {},
   "outputs": [
    {
     "name": "stdout",
     "output_type": "stream",
     "text": [
      "a等於12\n"
     ]
    }
   ],
   "source": [
    "a=12\n",
    "if a!=12:\n",
    "    print(\"a不等於12\")\n",
    "else:\n",
    "    print(\"a等於12\")"
   ]
  },
  {
   "cell_type": "code",
   "execution_count": 7,
   "metadata": {},
   "outputs": [
    {
     "name": "stdout",
     "output_type": "stream",
     "text": [
      "adult\n"
     ]
    }
   ],
   "source": [
    "age =int(input(\"請輸入年紀\"))\n",
    "\n",
    "if age<12:\n",
    "    print(\"teenager\")\n",
    "elif age<=18:\n",
    "    print(\"young man!\")\n",
    "else:\n",
    "    print(\"adult\")"
   ]
  },
  {
   "cell_type": "code",
   "execution_count": 22,
   "metadata": {},
   "outputs": [
    {
     "name": "stdout",
     "output_type": "stream",
     "text": [
      "a小於12,真的是太遜了\n"
     ]
    }
   ],
   "source": [
    "a=11\n",
    "\n",
    "if a>18:\n",
    "    print(\"a大於18\")\n",
    "elif a>12:\n",
    "    print(\"a大於十二小於十八\")\n",
    "else:\n",
    "    print(\"a小於12,真的是太遜了\")"
   ]
  },
  {
   "cell_type": "markdown",
   "metadata": {},
   "source": [
    "輸入顧客購買金額，若金額在\n",
    "100000元打8折. \n",
    "50000打85折. \n",
    "30000打9折. \n",
    "10000打95折. \n",
    "\n",
    "請輸入購買金額:130000\n",
    "實付金額是: 104000.0 元"
   ]
  },
  {
   "cell_type": "code",
   "execution_count": 6,
   "metadata": {},
   "outputs": [
    {
     "name": "stdout",
     "output_type": "stream",
     "text": [
      "31500.0\n"
     ]
    }
   ],
   "source": [
    "a=int(input(\"請輸入購買金額\"))\n",
    "\n",
    "if a>=100000:\n",
    "    a*=0.8\n",
    "elif a>=50000:\n",
    "    a*=0.85\n",
    "elif a>=30000:\n",
    "    a*=0.9\n",
    "elif a>=10000:\n",
    "    a*=0.95\n",
    "    \n",
    "print(a)"
   ]
  },
  {
   "cell_type": "code",
   "execution_count": 30,
   "metadata": {},
   "outputs": [
    {
     "ename": "SyntaxError",
     "evalue": "'return' outside function (1687326915.py, line 8)",
     "output_type": "error",
     "traceback": [
      "\u001b[0;36m  Cell \u001b[0;32mIn[30], line 8\u001b[0;36m\u001b[0m\n\u001b[0;31m    return rating\u001b[0m\n\u001b[0m    ^\u001b[0m\n\u001b[0;31mSyntaxError\u001b[0m\u001b[0;31m:\u001b[0m 'return' outside function\n"
     ]
    }
   ],
   "source": [
    "age=input(\"請輸入年齡\")\n",
    "rating=\"\"\n",
    "\n",
    "if age==\"\":rating=\"普遍級\"\n",
    "elif int(age)<13:rating=\"普遍級\"\n",
    "elif int(age)<18:rating=\"輔導級\"\n",
    "else:rating=\"限制級\"\n",
    "return rating\n",
    "\n"
   ]
  },
  {
   "cell_type": "code",
   "execution_count": 34,
   "metadata": {},
   "outputs": [
    {
     "ename": "SyntaxError",
     "evalue": "'return' outside function (1288104656.py, line 7)",
     "output_type": "error",
     "traceback": [
      "\u001b[0;36m  Cell \u001b[0;32mIn[34], line 7\u001b[0;36m\u001b[0m\n\u001b[0;31m    return rating\u001b[0m\n\u001b[0m    ^\u001b[0m\n\u001b[0;31mSyntaxError\u001b[0m\u001b[0;31m:\u001b[0m 'return' outside function\n"
     ]
    }
   ],
   "source": [
    "\n",
    "\n",
    "age = input(\"請輸入年齡\")\n",
    "rating = \"\"\n",
    "if age == \"\": rating = \"普遍級\"\n",
    "elif int(age) < 13: rating = \"普遍級\"\n",
    "elif int(age) < 18: rating = \"輔導級\"\n",
    "else: rating = \"限制級\"\n",
    "return rating\n",
    "    \n"
   ]
  },
  {
   "cell_type": "code",
   "execution_count": 46,
   "metadata": {},
   "outputs": [
    {
     "name": "stdout",
     "output_type": "stream",
     "text": [
      "它是人類或是沒毛的熊\n"
     ]
    }
   ],
   "source": [
    "#巢狀選擇\n",
    "furry = False\n",
    "small = False\n",
    "if furry:\n",
    "\tif small:\n",
    "\t\tprint(\"它是貓!\")\n",
    "\telse:\n",
    "\t\tprint(\"它是熊!\")\n",
    "else:\n",
    "\tif small:\n",
    "\t\tprint(\"它是小蜥蜴\")\n",
    "\telse:\n",
    "\t\tprint(\"它是人類或是沒毛的熊\")\n",
    "\n",
    "\n"
   ]
  },
  {
   "cell_type": "code",
   "execution_count": 7,
   "metadata": {},
   "outputs": [
    {
     "name": "stdout",
     "output_type": "stream",
     "text": [
      "root= 虛數\n"
     ]
    }
   ],
   "source": [
    "x=int(input(\"請輸入x的值\"))\n",
    "y=int(input(\"請輸入y的值\"))\n",
    "if x>=0:\n",
    "    root =x**(1/y)\n",
    "else:\n",
    "    if x%2==0:\n",
    "        root=\"虛數\"\n",
    "    else:\n",
    "        root=-(-x)**(1/y)\n",
    "        \n",
    "print('root=',root)"
   ]
  },
  {
   "cell_type": "code",
   "execution_count": 1,
   "metadata": {},
   "outputs": [
    {
     "name": "stdout",
     "output_type": "stream",
     "text": [
      "ok\n"
     ]
    }
   ],
   "source": [
    "a=11\n",
    "\n",
    "if a>=12 or a<18:\n",
    "    print(\"ok\")\n",
    "else:\n",
    "    print(\"error\")"
   ]
  },
  {
   "cell_type": "code",
   "execution_count": 9,
   "metadata": {},
   "outputs": [
    {
     "name": "stdout",
     "output_type": "stream",
     "text": [
      "1\n",
      "3\n"
     ]
    }
   ],
   "source": [
    "a=14\n",
    "\n",
    "if a>=12 and a<18:\n",
    "    print(\"1\")\n",
    "else:\n",
    "    print(\"2\")\n",
    "\n",
    "if 12<=a<18:\n",
    "    print(\"3\")\n",
    "else:\n",
    "    print(\"4\")"
   ]
  },
  {
   "cell_type": "code",
   "execution_count": 12,
   "metadata": {},
   "outputs": [
    {
     "name": "stdout",
     "output_type": "stream",
     "text": [
      "-100 是 大於二位數\n"
     ]
    }
   ],
   "source": [
    "n=int(input(\"請輸入整數:\"))\n",
    "\n",
    "if n>-10 and n<10:\n",
    "    digit=\"一\"\n",
    "elif n>-100 and n<100:\n",
    "    digit=\"二\"\n",
    "else:\n",
    "    digit=\"大於二\"\n",
    "\n",
    "print(n,\"是\",digit+\"位數\")"
   ]
  },
  {
   "cell_type": "markdown",
   "metadata": {},
   "source": [
    "#bmi.py\n",
    "請輸入身高,單位為(公分):177\n",
    "請輸入體重,單位為(公斤):80\n",
    "\n",
    "您的BMI是25.53544\n",
    "「您的體重過重」"
   ]
  },
  {
   "cell_type": "code",
   "execution_count": 8,
   "metadata": {},
   "outputs": [
    {
     "ename": "SyntaxError",
     "evalue": "invalid syntax. Perhaps you forgot a comma? (4058923461.py, line 16)",
     "output_type": "error",
     "traceback": [
      "\u001b[0;36m  Cell \u001b[0;32mIn[8], line 16\u001b[0;36m\u001b[0m\n\u001b[0;31m    print('「您的體重'state,'」')\u001b[0m\n\u001b[0m          ^\u001b[0m\n\u001b[0;31mSyntaxError\u001b[0m\u001b[0;31m:\u001b[0m invalid syntax. Perhaps you forgot a comma?\n"
     ]
    }
   ],
   "source": [
    "hei=int(input(\"請輸入身高:\"))\n",
    "wei=int(input(\"請輸入體重:\"))\n",
    "\n",
    "bmi=wei/((hei/100)**2)\n",
    "\n",
    "if bmi<18.5:\n",
    "    state=\"太輕\"\n",
    "elif bmi>=18.5 and bmi<25:\n",
    "    state=\"正常\"\n",
    "elif bmi>=25 and bmi<=30:\n",
    "    state=\"過重\"\n",
    "elif bmi >30:\n",
    "    state=\"肥胖\"\n",
    "    \n",
    "print(\"你的體重是\",bmi)\n",
    "print('「您的體重',state,'」')"
   ]
  }
 ],
 "metadata": {
  "kernelspec": {
   "display_name": "Python 3",
   "language": "python",
   "name": "python3"
  },
  "language_info": {
   "codemirror_mode": {
    "name": "ipython",
    "version": 3
   },
   "file_extension": ".py",
   "mimetype": "text/x-python",
   "name": "python",
   "nbconvert_exporter": "python",
   "pygments_lexer": "ipython3",
   "version": "3.10.8"
  },
  "orig_nbformat": 4
 },
 "nbformat": 4,
 "nbformat_minor": 2
}
