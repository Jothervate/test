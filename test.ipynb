{
 "cells": [
  {
   "cell_type": "code",
   "execution_count": 21,
   "metadata": {},
   "outputs": [
    {
     "name": "stdout",
     "output_type": "stream",
     "text": [
      "甲\n"
     ]
    }
   ],
   "source": [
    "scores=int(input(\"請輸入分數:\"))\n",
    "\n",
    "if scores>=90:\n",
    "    print(\"優\")\n",
    "    \n",
    "elif scores>=80:\n",
    "    print(\"甲\")\n",
    "    \n",
    "elif scores>=70: \n",
    "    print(\"乙\")\n",
    "    \n",
    "elif scores>=60:\n",
    "    print(\"丙\")\n",
    "\n",
    "else:\n",
    "    print(\"不及格\")\n",
    "    \n",
    "\n"
   ]
  },
  {
   "cell_type": "code",
   "execution_count": 24,
   "metadata": {},
   "outputs": [
    {
     "name": "stdout",
     "output_type": "stream",
     "text": [
      "中文沒有一百分\n"
     ]
    }
   ],
   "source": [
    "chinese=20\n",
    "\n",
    "if not chinese==100:\n",
    "    print(\"中文沒有一百分\")\n",
    "    \n",
    "else:\n",
    "    print(\"中文一百分\")"
   ]
  },
  {
   "cell_type": "code",
   "execution_count": 7,
   "metadata": {},
   "outputs": [
    {
     "name": "stdout",
     "output_type": "stream",
     "text": [
      "及格\n",
      "優\n"
     ]
    }
   ],
   "source": [
    "chinese=int(input(\"請輸入國文分數:\"))\n",
    "\n",
    "if chinese<60:\n",
    "    print(\"不及格\")\n",
    "else:\n",
    "    print(\"及格\")\n",
    "    if chinese<80:\n",
    "        print(\"優\")\n",
    "    else:\n",
    "        print(\"極優\")   "
   ]
  },
  {
   "cell_type": "code",
   "execution_count": 27,
   "metadata": {},
   "outputs": [
    {
     "name": "stdout",
     "output_type": "stream",
     "text": [
      "0\n"
     ]
    }
   ],
   "source": [
    "chinese=20\n",
    "\n",
    "english=11\n",
    "\n",
    "if chinese==100 and english==100:\n",
    "    print(\"1000\")\n",
    "\n",
    "elif chinese==100 or english==100:\n",
    "    print(\"500\")\n",
    "    \n",
    "else:\n",
    "    print(\"0\")"
   ]
  }
 ],
 "metadata": {
  "kernelspec": {
   "display_name": "Python 3",
   "language": "python",
   "name": "python3"
  },
  "language_info": {
   "codemirror_mode": {
    "name": "ipython",
    "version": 3
   },
   "file_extension": ".py",
   "mimetype": "text/x-python",
   "name": "python",
   "nbconvert_exporter": "python",
   "pygments_lexer": "ipython3",
   "version": "3.10.8"
  },
  "orig_nbformat": 4
 },
 "nbformat": 4,
 "nbformat_minor": 2
}
