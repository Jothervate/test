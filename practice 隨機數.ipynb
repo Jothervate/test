{
 "cells": [
  {
   "cell_type": "code",
   "execution_count": 48,
   "metadata": {},
   "outputs": [
    {
     "name": "stdout",
     "output_type": "stream",
     "text": [
      "['B', '3', '6', 'c', 'a', '2', 'A', '5', '4']\n"
     ]
    }
   ],
   "source": [
    "#必須先使用import 來匯入random方法\n",
    "import random\n",
    "#可使用help()來了解某方法如何使用:\n",
    "# help(random)\n",
    "\n",
    "#randint()-可隨機選出一個設定範圍的整數:\n",
    "# print(random.randint(1,10))\n",
    "\n",
    "#random()-隨機製作出一組浮點數:\n",
    "# print(random.random())\n",
    "\n",
    "#在列表中選擇某一元素:\n",
    "# list1=[\"極運\",\"好運\",\"小吉\",\"普通\",\"小兇\",\"大凶\"]\n",
    "#可用random.choice()或random.choices()方法來隨機選擇list1列表中的內容(choice--以str方法出現;choices--以list方法出現結果)\n",
    "# random_choice=random.choices(list1)\n",
    "# print(random_choice)\n",
    "\n",
    "#打亂列表\n",
    "# list2=['2','3','4','A','B','a','c','5','6']\n",
    "#使用random.shuffle()方法打亂列表\n",
    "# random.shuffle(list2)\n",
    "# print(list2)"
   ]
  }
 ],
 "metadata": {
  "kernelspec": {
   "display_name": "Python 3",
   "language": "python",
   "name": "python3"
  },
  "language_info": {
   "codemirror_mode": {
    "name": "ipython",
    "version": 3
   },
   "file_extension": ".py",
   "mimetype": "text/x-python",
   "name": "python",
   "nbconvert_exporter": "python",
   "pygments_lexer": "ipython3",
   "version": "3.9.17"
  }
 },
 "nbformat": 4,
 "nbformat_minor": 2
}
