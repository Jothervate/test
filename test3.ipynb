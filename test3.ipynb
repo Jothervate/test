{
 "cells": [
  {
   "cell_type": "code",
   "execution_count": 2,
   "metadata": {},
   "outputs": [
    {
     "name": "stdout",
     "output_type": "stream",
     "text": [
      "已經存夠了,存了2個月,總存了40000元\n"
     ]
    }
   ],
   "source": [
    "deposit = 0\n",
    "months = 0\n",
    "while(deposit<30000):\n",
    "    months += 1\n",
    "    value = int(input(f\"請輸入第{months}月份的存款:\"))\n",
    "    deposit += value\n",
    "    \n",
    "print(f\"已經存夠了,存了{months}個月,總存了{deposit}元\")"
   ]
  },
  {
   "cell_type": "code",
   "execution_count": 5,
   "metadata": {},
   "outputs": [
    {
     "name": "stdout",
     "output_type": "stream",
     "text": [
      "所有輸入的加總偶數為30\n"
     ]
    }
   ],
   "source": [
    "sum=0\n",
    "num=0\n",
    "while(True):\n",
    "    num+=1\n",
    "    input_value= int(input(f\"請輸入第{num}數值:\"))\n",
    "    if input_value<0:\n",
    "        break\n",
    "    elif input_value%2==1:\n",
    "        continue\n",
    "    else:\n",
    "        sum+= input_value\n",
    "\n",
    "print(f\"所有輸入的加總偶數為{sum}\")"
   ]
  },
  {
   "cell_type": "code",
   "execution_count": 39,
   "metadata": {},
   "outputs": [
    {
     "data": {
      "text/plain": [
       "10"
      ]
     },
     "execution_count": 39,
     "metadata": {},
     "output_type": "execute_result"
    }
   ],
   "source": [
    "import random\n",
    "random.randrange(10)\n",
    "random.randint(1,10)"
   ]
  }
 ],
 "metadata": {
  "kernelspec": {
   "display_name": "Python 3",
   "language": "python",
   "name": "python3"
  },
  "language_info": {
   "codemirror_mode": {
    "name": "ipython",
    "version": 3
   },
   "file_extension": ".py",
   "mimetype": "text/x-python",
   "name": "python",
   "nbconvert_exporter": "python",
   "pygments_lexer": "ipython3",
   "version": "3.10.8"
  },
  "orig_nbformat": 4
 },
 "nbformat": 4,
 "nbformat_minor": 2
}
