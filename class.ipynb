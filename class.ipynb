{
 "cells": [
  {
   "cell_type": "code",
   "execution_count": 10,
   "metadata": {},
   "outputs": [
    {
     "data": {
      "text/plain": [
       "[]"
      ]
     },
     "execution_count": 10,
     "metadata": {},
     "output_type": "execute_result"
    }
   ],
   "source": [
    "list()"
   ]
  },
  {
   "cell_type": "code",
   "execution_count": 16,
   "metadata": {},
   "outputs": [],
   "source": [
    "enmpy_list=[]\n",
    "weekdays=['Monday','Tuesday','Wednesday','Thrusday','Friday','Saturday','Sunday']\n",
    "big_birds= ['emu', 'ostrich', 'cassowary']\n",
    "name_code=[\"JOJO\",\"傑哥\",\"你幹嘛!\"]"
   ]
  },
  {
   "cell_type": "code",
   "execution_count": 20,
   "metadata": {},
   "outputs": [
    {
     "data": {
      "text/plain": [
       "list"
      ]
     },
     "execution_count": 20,
     "metadata": {},
     "output_type": "execute_result"
    }
   ],
   "source": [
    "type(name_code)"
   ]
  },
  {
   "cell_type": "code",
   "execution_count": 21,
   "metadata": {},
   "outputs": [
    {
     "data": {
      "text/plain": [
       "['JOJO', '傑哥', '你幹嘛!', 'Jotaro']"
      ]
     },
     "execution_count": 21,
     "metadata": {},
     "output_type": "execute_result"
    }
   ],
   "source": [
    "name_code.append(\"Jotaro\")\n",
    "name_code"
   ]
  },
  {
   "cell_type": "code",
   "execution_count": 22,
   "metadata": {},
   "outputs": [
    {
     "data": {
      "text/plain": [
       "['Yoga', 'JOJO', '傑哥', '你幹嘛!', 'Jotaro']"
      ]
     },
     "execution_count": 22,
     "metadata": {},
     "output_type": "execute_result"
    }
   ],
   "source": [
    "name_code.insert(0,'Yoga')\n",
    "name_code"
   ]
  },
  {
   "cell_type": "code",
   "execution_count": 25,
   "metadata": {},
   "outputs": [
    {
     "data": {
      "text/plain": [
       "['1', '1', '4', '5', '1', '4', '1', '9', '1', '9', '8', '1', '0']"
      ]
     },
     "execution_count": 25,
     "metadata": {},
     "output_type": "execute_result"
    }
   ],
   "source": [
    "word=list(\"1145141919810\")\n",
    "word"
   ]
  },
  {
   "cell_type": "code",
   "execution_count": 31,
   "metadata": {},
   "outputs": [
    {
     "data": {
      "text/plain": [
       "['1', '1', '4']"
      ]
     },
     "execution_count": 31,
     "metadata": {},
     "output_type": "execute_result"
    }
   ],
   "source": [
    "word[:3]"
   ]
  },
  {
   "cell_type": "code",
   "execution_count": 2,
   "metadata": {},
   "outputs": [
    {
     "data": {
      "text/plain": [
       "[['阿姆羅', '夏亞', '卡密兒', '巴納吉'],\n",
       " ['牛剛', '百式', 'z鋼彈', '超級鋼彈', '獨角獸鋼彈'],\n",
       " ['Ms', '可變Ms', 'NT-D']]"
      ]
     },
     "execution_count": 2,
     "metadata": {},
     "output_type": "execute_result"
    }
   ],
   "source": [
    "Newtype=[\"阿姆羅\",\"夏亞\",\"卡密兒\",\"巴納吉\"]\n",
    "Gundam=[\"牛剛\",\"百式\",\"z鋼彈\",\"超級鋼彈\",\"獨角獸鋼彈\"]\n",
    "type=[\"Ms\",\"可變Ms\",\"NT-D\"]\n",
    "\n",
    "GUNDAM_List=[Newtype,Gundam,type]\n",
    "GUNDAM_List"
   ]
  },
  {
   "cell_type": "code",
   "execution_count": 6,
   "metadata": {},
   "outputs": [
    {
     "name": "stdout",
     "output_type": "stream",
     "text": [
      "夏亞\n",
      "z鋼彈\n",
      "NT-D\n"
     ]
    }
   ],
   "source": [
    "print(GUNDAM_List[0][1])\n",
    "print(GUNDAM_List[1][2])\n",
    "print(GUNDAM_List[2][2])"
   ]
  },
  {
   "cell_type": "code",
   "execution_count": null,
   "metadata": {},
   "outputs": [],
   "source": []
  }
 ],
 "metadata": {
  "kernelspec": {
   "display_name": "Python 3",
   "language": "python",
   "name": "python3"
  },
  "language_info": {
   "codemirror_mode": {
    "name": "ipython",
    "version": 3
   },
   "file_extension": ".py",
   "mimetype": "text/x-python",
   "name": "python",
   "nbconvert_exporter": "python",
   "pygments_lexer": "ipython3",
   "version": "3.10.8"
  },
  "orig_nbformat": 4
 },
 "nbformat": 4,
 "nbformat_minor": 2
}
