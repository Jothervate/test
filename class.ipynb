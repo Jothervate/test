{
 "cells": [
  {
   "cell_type": "code",
   "execution_count": 1,
   "metadata": {},
   "outputs": [
    {
     "name": "stdout",
     "output_type": "stream",
     "text": [
      "6\n",
      "5\n",
      "4\n",
      "3\n",
      "2\n",
      "1\n",
      "0\n",
      "離開後a為 -1\n"
     ]
    }
   ],
   "source": [
    "a=6\n",
    "while a>=0:\n",
    "    print(a)\n",
    "    a-=1\n",
    "print(\"離開後a為\",a)"
   ]
  },
  {
   "cell_type": "code",
   "execution_count": 2,
   "metadata": {},
   "outputs": [
    {
     "name": "stdout",
     "output_type": "stream",
     "text": [
      "我喜歡的cheese有 cheese\n"
     ]
    }
   ],
   "source": [
    "cheeses = [\"cheese\",\"nose\",\"vegetable\"]\n",
    "for cheese in cheeses:\n",
    "    print('我喜歡的cheese有', cheese)\n",
    "    break\n",
    "else: # no break means no cheese\n",
    "    print('沒有任何cheese') "
   ]
  },
  {
   "cell_type": "code",
   "execution_count": 2,
   "metadata": {},
   "outputs": [
    {
     "name": "stdout",
     "output_type": "stream",
     "text": [
      "15\n",
      "13\n",
      "11\n",
      "9\n",
      "7\n",
      "5\n",
      "3\n",
      "1\n"
     ]
    }
   ],
   "source": [
    "a=15\n",
    "while a>=0:\n",
    "    print(a)\n",
    "    a-=2"
   ]
  },
  {
   "cell_type": "code",
   "execution_count": 4,
   "metadata": {},
   "outputs": [
    {
     "name": "stdout",
     "output_type": "stream",
     "text": [
      "1\n",
      "2\n",
      "3\n",
      "4\n",
      "5\n"
     ]
    }
   ],
   "source": [
    "count=1\n",
    "while count<=5:\n",
    "    print(count)\n",
    "    count+=1"
   ]
  },
  {
   "cell_type": "code",
   "execution_count": 2,
   "metadata": {},
   "outputs": [
    {
     "name": "stdout",
     "output_type": "stream",
     "text": [
      "第1.0次迴圈的i=2,總和為2\n",
      "第2.0次迴圈的i=4,總和為6\n",
      "第3.0次迴圈的i=6,總和為12\n",
      "第4.0次迴圈的i=8,總和為20\n",
      "第5.0次迴圈的i=10,總和為30\n"
     ]
    }
   ],
   "source": [
    "sum=0\n",
    "i=2\n",
    "while(i<=10):\n",
    "    sum+=i\n",
    "    print(f\"第{i/2}次迴圈的i={i},總和為{sum}\")\n",
    "    i+=2"
   ]
  },
  {
   "cell_type": "code",
   "execution_count": 19,
   "metadata": {},
   "outputs": [
    {
     "name": "stdout",
     "output_type": "stream",
     "text": [
      "本星期的支出為15013元\n"
     ]
    }
   ],
   "source": [
    "sum=0;\n",
    "i=1;\n",
    "while (True):\n",
    "    if (i<7):\n",
    "        output='請輸入星期'+str(i)+'的花費:'\n",
    "        n=int(input(output))\n",
    "    elif(i==7):\n",
    "        n=int(input(\"請輸入星期日的花費:\"))\n",
    "    else:\n",
    "        break\n",
    "    sum += n\n",
    "    i += 1\n",
    "print(f'本星期的支出為{sum}元')"
   ]
  },
  {
   "cell_type": "code",
   "execution_count": 22,
   "metadata": {},
   "outputs": [
    {
     "name": "stdout",
     "output_type": "stream",
     "text": [
      "Fuck\n",
      "Qqiqq\n",
      "程式結束\n"
     ]
    }
   ],
   "source": [
    "while(True):\n",
    "    stuff=input(\"請輸入小寫文字[按q會離開]:\")\n",
    "    if stuff==\"q\":\n",
    "        break\n",
    "    print(stuff.capitalize())\n",
    "print('程式結束')"
   ]
  },
  {
   "cell_type": "code",
   "execution_count": 23,
   "metadata": {},
   "outputs": [
    {
     "name": "stdout",
     "output_type": "stream",
     "text": [
      "全班總成績為: 101 平均分數為: 33.67\n"
     ]
    }
   ],
   "source": [
    "num = 0\n",
    "sum = 0\n",
    "while(True):\n",
    "    num += 1\n",
    "    score = int(input('請輸入第'+ str(num) +'學生的成績:'))    \n",
    "    if(score < 0):\n",
    "        break\n",
    "    \n",
    "    sum += score\n",
    "    \n",
    "#已經跳出while    \n",
    "print('全班總成績為:', sum, \"平均分數為:\", \"%.2f\" % (sum/(num-1)) )"
   ]
  },
  {
   "cell_type": "code",
   "execution_count": 6,
   "metadata": {},
   "outputs": [
    {
     "name": "stdout",
     "output_type": "stream",
     "text": [
      "123平方是15129\n",
      "結束\n"
     ]
    }
   ],
   "source": [
    "while True:\n",
    "    value=input(\"請輸入整數,按q離開:\")\n",
    "    if value==\"q\":\n",
    "        break\n",
    "    number=int(value)\n",
    "    if number % 2==0:\n",
    "        continue\n",
    "print(f'{number}平方是{number*number}')\n",
    "print(\"結束\")"
   ]
  },
  {
   "cell_type": "code",
   "execution_count": 8,
   "metadata": {},
   "outputs": [
    {
     "name": "stdout",
     "output_type": "stream",
     "text": [
      "所有輸入的正偶數值為:1324,共執行6次\n"
     ]
    }
   ],
   "source": [
    "num=0\n",
    "sum=0\n",
    "while True:\n",
    "    num+=1\n",
    "    total=int(input(f\"請輸入第{str(num)}的數值:\"))\n",
    "    if total<0:\n",
    "        break\n",
    "    elif total%2==1:\n",
    "        continue\n",
    "    else:\n",
    "        sum+=total\n",
    "print(f'所有輸入的正偶數值為:{sum},共執行{num}次')"
   ]
  },
  {
   "cell_type": "code",
   "execution_count": 15,
   "metadata": {},
   "outputs": [
    {
     "name": "stdout",
     "output_type": "stream",
     "text": [
      "你真的太遜了!我只用五天,就可以存三萬台幣,你怎麼就不行?遜咖!共用了16天,存了1222140元。\n"
     ]
    }
   ],
   "source": [
    "desposite=0\n",
    "num=0\n",
    "while (desposite<30000):\n",
    "    num+=1\n",
    "    sum=int(input(f'請輸入第{str(num)}天的存款:'))\n",
    "    desposite+=sum\n",
    "    if 15>num>10 and desposite>30000:\n",
    "        print(f'恭喜!已經存夠了!共用了{num}天,存了{desposite}元。')\n",
    "    elif num<=10 and desposite>30000:\n",
    "        print(f'哇靠!你怎麼存那麼快!你好屌喔!你共用了{num}天,存了{desposite}元。')\n",
    "    elif num>15 and desposite>30000:\n",
    "        print(f'你真的太遜了!我只用五天,就可以存三萬台幣,你怎麼就不行?遜咖!共用了{num}天,存了{desposite}元。')"
   ]
  },
  {
   "cell_type": "code",
   "execution_count": 4,
   "metadata": {},
   "outputs": [
    {
     "name": "stdout",
     "output_type": "stream",
     "text": [
      "發現偶數 8\n"
     ]
    }
   ],
   "source": [
    "numbers = [8, 3, 5]\n",
    "position = 0\n",
    "while position < len(numbers):\n",
    "    number = numbers[position] \n",
    "    if number%2==0:\n",
    "        print('發現偶數', number)\n",
    "        break\n",
    "    position += 1\n",
    "else: # 沒有執行break\n",
    "    print('沒有偶數')"
   ]
  },
  {
   "cell_type": "code",
   "execution_count": 6,
   "metadata": {},
   "outputs": [
    {
     "name": "stdout",
     "output_type": "stream",
     "text": [
      "全班成績為445分,平均成績為89.0分\n"
     ]
    }
   ],
   "source": [
    "sum=0\n",
    "students=5\n",
    "for i in range(students):\n",
    "    student_grade=int(input(f\"請輸入第{str(i)}位學生的成績:\"))\n",
    "    sum+=student_grade\n",
    "print(f'全班成績為{sum}分,平均成績為{str(sum/students)}分')"
   ]
  },
  {
   "cell_type": "code",
   "execution_count": 8,
   "metadata": {},
   "outputs": [
    {
     "name": "stdout",
     "output_type": "stream",
     "text": [
      "3\n",
      "2\n",
      "1\n",
      "0\n"
     ]
    }
   ],
   "source": [
    "for x in range(3,-1,-1):\n",
    "    print(x)"
   ]
  },
  {
   "cell_type": "code",
   "execution_count": 9,
   "metadata": {},
   "outputs": [
    {
     "data": {
      "text/plain": [
       "[0, 3, 6, 9, 12]"
      ]
     },
     "execution_count": 9,
     "metadata": {},
     "output_type": "execute_result"
    }
   ],
   "source": [
    "list(range(0,13,3))\n"
   ]
  },
  {
   "cell_type": "code",
   "execution_count": 10,
   "metadata": {},
   "outputs": [
    {
     "name": "stdout",
     "output_type": "stream",
     "text": [
      "6\n",
      "7\n",
      "8\n",
      "9\n"
     ]
    }
   ],
   "source": [
    "for x in range(6,10):\n",
    "    print(x)"
   ]
  },
  {
   "cell_type": "code",
   "execution_count": 25,
   "metadata": {},
   "outputs": [
    {
     "name": "stdout",
     "output_type": "stream",
     "text": [
      "5\n"
     ]
    }
   ],
   "source": [
    "import random\n",
    "x=random.randint(1,8)\n",
    "print(x)"
   ]
  },
  {
   "cell_type": "code",
   "execution_count": 26,
   "metadata": {},
   "outputs": [
    {
     "name": "stdout",
     "output_type": "stream",
     "text": [
      "Flopsy\n",
      "Mopsy\n",
      "Cottontail\n",
      "Peter\n"
     ]
    }
   ],
   "source": [
    "rabbits = ['Flopsy', 'Mopsy', 'Cottontail', 'Peter'] \n",
    "current = 0\n",
    "while current < len(rabbits):\n",
    "    print(rabbits[current])\n",
    "    current += 1"
   ]
  },
  {
   "cell_type": "code",
   "execution_count": 27,
   "metadata": {},
   "outputs": [
    {
     "name": "stdout",
     "output_type": "stream",
     "text": [
      "c\n",
      "a\n",
      "t\n"
     ]
    }
   ],
   "source": [
    "word='cat'\n",
    "for list in word:\n",
    "    print(list)"
   ]
  },
  {
   "cell_type": "code",
   "execution_count": 35,
   "metadata": {},
   "outputs": [
    {
     "name": "stdout",
     "output_type": "stream",
     "text": [
      "Card roomhas the content ballroom\n",
      "Card weaponhas the content lead pipe\n",
      "Card personhas the content Col. Mustard\n"
     ]
    }
   ],
   "source": [
    "accusation = {'room': 'ballroom', 'weapon': 'lead pipe', 'person': 'Col. Mustard'}\n",
    "\n",
    "for card , content in accusation.items():\n",
    "    print(f\"Card {card}has the content {content}\")"
   ]
  },
  {
   "cell_type": "code",
   "execution_count": 39,
   "metadata": {},
   "outputs": [
    {
     "name": "stdout",
     "output_type": "stream",
     "text": [
      "a\n",
      "b\n",
      "d\n"
     ]
    }
   ],
   "source": [
    "\n",
    "i = ['a', 'b', 'c', 'd'] \n",
    "for j in i:\n",
    "    if j == 'c': \n",
    "        continue\n",
    "    print(j)"
   ]
  },
  {
   "cell_type": "code",
   "execution_count": 42,
   "metadata": {},
   "outputs": [
    {
     "name": "stdout",
     "output_type": "stream",
     "text": [
      "1  *  1  =  1\t1 * 1 = 1   1  *  2  =  2\t1 * 2 = 2   1  *  3  =  3\t1 * 3 = 3   1  *  4  =  4\t1 * 4 = 4   1  *  5  =  5\t1 * 5 = 5   1  *  6  =  6\t1 * 6 = 6   1  *  7  =  7\t1 * 7 = 7   1  *  8  =  8\t1 * 8 = 8   1  *  9  =  9\t1 * 9 = 9   \n",
      "2  *  1  =  2\t2 * 1 = 2   2  *  2  =  4\t2 * 2 = 4   2  *  3  =  6\t2 * 3 = 6   2  *  4  =  8\t2 * 4 = 8   2  *  5  =  10\t2 * 5 =10   2  *  6  =  12\t2 * 6 =12   2  *  7  =  14\t2 * 7 =14   2  *  8  =  16\t2 * 8 =16   2  *  9  =  18\t2 * 9 =18   \n",
      "3  *  1  =  3\t3 * 1 = 3   3  *  2  =  6\t3 * 2 = 6   3  *  3  =  9\t3 * 3 = 9   3  *  4  =  12\t3 * 4 =12   3  *  5  =  15\t3 * 5 =15   3  *  6  =  18\t3 * 6 =18   3  *  7  =  21\t3 * 7 =21   3  *  8  =  24\t3 * 8 =24   3  *  9  =  27\t3 * 9 =27   \n",
      "4  *  1  =  4\t4 * 1 = 4   4  *  2  =  8\t4 * 2 = 8   4  *  3  =  12\t4 * 3 =12   4  *  4  =  16\t4 * 4 =16   4  *  5  =  20\t4 * 5 =20   4  *  6  =  24\t4 * 6 =24   4  *  7  =  28\t4 * 7 =28   4  *  8  =  32\t4 * 8 =32   4  *  9  =  36\t4 * 9 =36   \n",
      "5  *  1  =  5\t5 * 1 = 5   5  *  2  =  10\t5 * 2 =10   5  *  3  =  15\t5 * 3 =15   5  *  4  =  20\t5 * 4 =20   5  *  5  =  25\t5 * 5 =25   5  *  6  =  30\t5 * 6 =30   5  *  7  =  35\t5 * 7 =35   5  *  8  =  40\t5 * 8 =40   5  *  9  =  45\t5 * 9 =45   \n",
      "6  *  1  =  6\t6 * 1 = 6   6  *  2  =  12\t6 * 2 =12   6  *  3  =  18\t6 * 3 =18   6  *  4  =  24\t6 * 4 =24   6  *  5  =  30\t6 * 5 =30   6  *  6  =  36\t6 * 6 =36   6  *  7  =  42\t6 * 7 =42   6  *  8  =  48\t6 * 8 =48   6  *  9  =  54\t6 * 9 =54   \n",
      "7  *  1  =  7\t7 * 1 = 7   7  *  2  =  14\t7 * 2 =14   7  *  3  =  21\t7 * 3 =21   7  *  4  =  28\t7 * 4 =28   7  *  5  =  35\t7 * 5 =35   7  *  6  =  42\t7 * 6 =42   7  *  7  =  49\t7 * 7 =49   7  *  8  =  56\t7 * 8 =56   7  *  9  =  63\t7 * 9 =63   \n",
      "8  *  1  =  8\t8 * 1 = 8   8  *  2  =  16\t8 * 2 =16   8  *  3  =  24\t8 * 3 =24   8  *  4  =  32\t8 * 4 =32   8  *  5  =  40\t8 * 5 =40   8  *  6  =  48\t8 * 6 =48   8  *  7  =  56\t8 * 7 =56   8  *  8  =  64\t8 * 8 =64   8  *  9  =  72\t8 * 9 =72   \n",
      "9  *  1  =  9\t9 * 1 = 9   9  *  2  =  18\t9 * 2 =18   9  *  3  =  27\t9 * 3 =27   9  *  4  =  36\t9 * 4 =36   9  *  5  =  45\t9 * 5 =45   9  *  6  =  54\t9 * 6 =54   9  *  7  =  63\t9 * 7 =63   9  *  8  =  72\t9 * 8 =72   9  *  9  =  81\t9 * 9 =81   \n"
     ]
    }
   ],
   "source": [
    "for i in range(1,10):\n",
    "    for j in range(1,10):\n",
    "        print(i, \" * \", j, \" = \", i*j, end='\\t')\n",
    "        print(\"%-2d*%2d =%2d\" % (i,j,i*j),end=\"   \")\n",
    "    print()"
   ]
  },
  {
   "cell_type": "code",
   "execution_count": 46,
   "metadata": {},
   "outputs": [
    {
     "name": "stdout",
     "output_type": "stream",
     "text": [
      "16 的因數:\n",
      "1\n",
      "2\n",
      "4\n",
      "8\n",
      "16\n"
     ]
    }
   ],
   "source": [
    "num = int(input(\"請輸入整數，求所有因數:\"))\n",
    "print(num,\"的因數:\")\n",
    "for i in range(1,num+1):  \n",
    "    if num % i == 0:\n",
    "        print(i)"
   ]
  },
  {
   "cell_type": "code",
   "execution_count": 6,
   "metadata": {},
   "outputs": [
    {
     "name": "stdout",
     "output_type": "stream",
     "text": [
      "6 的因數:\n",
      "1\n",
      "2\n",
      "3\n"
     ]
    }
   ],
   "source": [
    "num=int(input(\"請輸入整數,求所有因數:\"))\n",
    "print(num,\"的因數:\")\n",
    "for i in range (1,num+1):\n",
    "    if num%i==0:\n",
    "        print(i)"
   ]
  },
  {
   "cell_type": "code",
   "execution_count": 9,
   "metadata": {},
   "outputs": [
    {
     "name": "stdout",
     "output_type": "stream",
     "text": [
      "請輸入二數,求其公因數:\n",
      "12和30的公因數為:\n",
      "1\n",
      "2\n",
      "3\n",
      "6\n"
     ]
    }
   ],
   "source": [
    "print(\"請輸入二數,求其公因數:\")\n",
    "n=int(input(\"請輸入第一個數:\"))\n",
    "m=int(input('請輸入第二個數:'))\n",
    "if n>m:\n",
    "    num=m\n",
    "else:\n",
    "    num=n\n",
    "print(f\"{n}和{m}的公因數為:\")\n",
    "for i in range(1,num+1):\n",
    "    if n%i==0 and m%i==0:\n",
    "        print(i)"
   ]
  },
  {
   "cell_type": "code",
   "execution_count": 8,
   "metadata": {},
   "outputs": [
    {
     "name": "stdout",
     "output_type": "stream",
     "text": [
      "2\n",
      "3\n",
      "5\n",
      "7\n",
      "11\n",
      "13\n",
      "17\n",
      "19\n",
      "23\n",
      "29\n"
     ]
    }
   ],
   "source": [
    "n=int(input(\"請輸入數值,並將求2到此數之間的質數:\"))\n",
    "for i in range(2,n):\n",
    "    k=True\n",
    "    for j in range(2,i):\n",
    "        if i % j ==0:\n",
    "            k=False\n",
    "            continue\n",
    "    if k==True:\n",
    "        print(i)"
   ]
  },
  {
   "cell_type": "code",
   "execution_count": 9,
   "metadata": {},
   "outputs": [
    {
     "name": "stdout",
     "output_type": "stream",
     "text": [
      "Monday : drink coffee - eat banana - enjoy tiramisu\n",
      "Tuesday : drink tea - eat orange - enjoy ice cream\n",
      "Wednesday : drink beer - eat peach - enjoy pie\n"
     ]
    }
   ],
   "source": [
    "days = ['Monday', 'Tuesday', 'Wednesday']\n",
    "fruits = ['banana', 'orange', 'peach']\n",
    "drinks = ['coffee', 'tea', 'beer']\n",
    "desserts = ['tiramisu', 'ice cream', 'pie', 'pudding']\n",
    "for day, fruit, drink, dessert in zip(days, fruits, drinks, desserts): \n",
    "    print(day, \": drink\", drink, \"- eat\", fruit, \"- enjoy\", dessert)"
   ]
  },
  {
   "cell_type": "code",
   "execution_count": 16,
   "metadata": {},
   "outputs": [
    {
     "data": {
      "text/plain": [
       "{'Monday': 'Lundi', 'Tuesday': 'Mardi', 'Wednesday': 'Mercredi'}"
      ]
     },
     "execution_count": 16,
     "metadata": {},
     "output_type": "execute_result"
    }
   ],
   "source": [
    "english = 'Monday', 'Tuesday', 'Wednesday'\n",
    "french = 'Lundi', 'Mardi', 'Mercredi'\n",
    "dict(zip(english, french))\n"
   ]
  },
  {
   "cell_type": "code",
   "execution_count": 21,
   "metadata": {},
   "outputs": [
    {
     "name": "stdout",
     "output_type": "stream",
     "text": [
      "1 +2 +3 +4 +5 +6 +7 +8 +9 +10 +11 +12 +13 +14 +15 +16 +17 +18 +19 +20 +21 +22 +23 +24 +25 +26 +27 +28 +29 +30 +31 +32 +33 +34 +35 +36 +37 +38 +39 +40 +41 +42 +43 +44 +45 +46 +47 +48 +49 +50 +51 +52 +53 +54 +55 +56 +57 +58 +59 +60 +61 +62 +63 +64 +65 +66 +67 +68 +69 +70 +71 +72 +73 +74 +75 +76 +77 +78 +79 +80 +81 +82 +83 +84 +85 +86 +87 +88 +89 +90 +91 +92 +93 +94 +95 +96 +97 +98 +99 +100 =5050\n"
     ]
    }
   ],
   "source": [
    "sum=0\n",
    "for i in range(100):\n",
    "    i+=1\n",
    "    if i !=100:\n",
    "        print(i,'+',end='')\n",
    "        sum+=i\n",
    "        continue\n",
    "    print(i,'=',end='')\n",
    "    sum+=i\n",
    "print(sum)"
   ]
  },
  {
   "cell_type": "code",
   "execution_count": 36,
   "metadata": {},
   "outputs": [
    {
     "name": "stdout",
     "output_type": "stream",
     "text": [
      "1 +2 +3 +4 +5 +6 +7 +8 +9 +10 +11 +12 +13 +14 +15 +16 +17 +18 +19 +20 +21 +22 +23 +24 +25 +26 +27 +28 +29 +30 +31 +32 +33 +34 +35 +36 +37 +38 +39 +40 +41 +42 +43 +44 +45 +46 +47 +48 +49 +50 +51 +52 +53 +54 +55 +56 +57 +58 +59 +60 +61 +62 +63 +64 +65 +66 +67 +68 +69 +70 +71 +72 +73 +74 +75 +76 +77 +78 +79 +80 +81 +82 +83 +84 +85 +86 +87 +88 +89 +90 +91 +92 +93 +94 +95 +96 +97 +98 +99 +100 +0 =5050\n"
     ]
    }
   ],
   "source": [
    "sum=0\n",
    "i=0\n",
    "k=0\n",
    "j=0\n",
    "while(True):\n",
    "    i+=1\n",
    "    k+=1\n",
    "    if k<=100:\n",
    "        print(i,'+',end=\"\")\n",
    "        sum+=i\n",
    "        continue\n",
    "    else:\n",
    "        print(j,'=',end='')\n",
    "        break\n",
    "print(sum)"
   ]
  },
  {
   "cell_type": "code",
   "execution_count": 38,
   "metadata": {},
   "outputs": [
    {
     "name": "stdout",
     "output_type": "stream",
     "text": [
      "55555\n",
      "4444\n",
      "333\n",
      "22\n",
      "1\n"
     ]
    }
   ],
   "source": [
    "for i in range(5,0,-1):\n",
    "    for j in range (i):\n",
    "        print(i,end='')\n",
    "    print()"
   ]
  },
  {
   "cell_type": "code",
   "execution_count": 40,
   "metadata": {},
   "outputs": [
    {
     "name": "stdout",
     "output_type": "stream",
     "text": [
      "2 * 1 +2 * 2 +2 * 3 +2 * 4 +2 * 5 +2 * 6 +2 * 7 +2 * 8 +2 * 9 +2 * 10 +2 * 11 +2 * 12  = 156\n"
     ]
    }
   ],
   "source": [
    "M=int(input('請輸入數值:'))\n",
    "N=int(input(\"請輸入第二個數值:\"))\n",
    "sum=0\n",
    "for i in range(N):\n",
    "    i+=1\n",
    "    if i !=N:\n",
    "        print(M,'*',i,\"+\",end='')\n",
    "    else:\n",
    "        print(M,'*',i,' = ',end='')\n",
    "\n",
    "    sum += M * i\n",
    "\n",
    "print(sum)"
   ]
  },
  {
   "cell_type": "code",
   "execution_count": 41,
   "metadata": {},
   "outputs": [
    {
     "name": "stdout",
     "output_type": "stream",
     "text": [
      "求兩數的最大公因數和最小公倍數\n",
      "21和12的最大公因數:3\n",
      "21和12的最小公倍數:84\n"
     ]
    }
   ],
   "source": [
    "print('求兩數的最大公因數和最小公倍數')\n",
    "n = int(input('請輸入第一個整數:'))\n",
    "m = int(input('請輸入第二個整數:'))\n",
    "\n",
    "if(n>m):\n",
    "    max = n\n",
    "    min = m\n",
    "else:\n",
    "    max = m\n",
    "    min = n\n",
    "\n",
    "for num in range(min):\n",
    "    num += 1\n",
    "    if((min % num) == 0 and (max % num) == 0):\n",
    "        maxResult = num\n",
    "\n",
    "minResult = (n / maxResult) * (m / maxResult) * maxResult\n",
    "\n",
    "print('{0:d}和{1:d}的最大公因數:{2:d}'.format(n,m,maxResult))\n",
    "print('{0:d}和{1:d}的最小公倍數:{2:.0f}'.format(n,m,minResult))"
   ]
  }
 ],
 "metadata": {
  "kernelspec": {
   "display_name": "Python 3",
   "language": "python",
   "name": "python3"
  },
  "language_info": {
   "codemirror_mode": {
    "name": "ipython",
    "version": 3
   },
   "file_extension": ".py",
   "mimetype": "text/x-python",
   "name": "python",
   "nbconvert_exporter": "python",
   "pygments_lexer": "ipython3",
   "version": "3.10.8"
  },
  "orig_nbformat": 4
 },
 "nbformat": 4,
 "nbformat_minor": 2
}
