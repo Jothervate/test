{
 "cells": [
  {
   "cell_type": "code",
   "execution_count": 2,
   "metadata": {},
   "outputs": [
    {
     "name": "stdout",
     "output_type": "stream",
     "text": [
      "7491bd7a78b2c45a844ce2abea46f723\n"
     ]
    }
   ],
   "source": [
    "#hashlib套件=判別文件更新與否\n",
    "\n",
    "#只要有文件更新--必產生不同的md5碼\n",
    "\n",
    "import hashlib\n",
    "md5=hashlib.md5()\n",
    "md5.update(b'Test String!')\n",
    "\n",
    "#.hexdigest()--產生16進位加密結果\n",
    "print(md5.hexdigest())"
   ]
  },
  {
   "cell_type": "code",
   "execution_count": 3,
   "metadata": {},
   "outputs": [],
   "source": [
    "#與上述相同的第二種寫法\n",
    "\n",
    "import hashlib\n",
    "md5=hashlib.md5(b\"Test String!\").hexdigest"
   ]
  },
  {
   "cell_type": "code",
   "execution_count": null,
   "metadata": {},
   "outputs": [],
   "source": [
    "#讀取網頁原始碼方法之一:\n",
    "\n",
    "html=request.get(url).text.encode(\"UTF-8-SIG\")\n",
    "\n",
    "#判斷網頁是否更新:\n",
    "\n",
    "md5=hashlib.md5(html).hexdigest()\n",
    "if os.path.exists(\"old_md5.txt\"):\n",
    "    with open (\"old_md5.txt\",'r')as f:\n",
    "        old_md5=f.read()\n",
    "    with open (\"old_md5.txt\",'w')as f:\n",
    "        f.write(md5)\n",
    "\n",
    "else:\n",
    "    with open(\"old_md5.txt\",'w')as f:\n",
    "        f.write(md5)\n",
    "\n",
    "if md5!=old_md5:\n",
    "    print(\"資料已更新!\")\n",
    "else:\n",
    "    print(\"資料尚未更新!\")"
   ]
  },
  {
   "cell_type": "code",
   "execution_count": 5,
   "metadata": {},
   "outputs": [
    {
     "name": "stdout",
     "output_type": "stream",
     "text": [
      "資料已更新!\n"
     ]
    },
    {
     "ename": "ValueError",
     "evalue": "malformed node or string: <ast.Name object at 0x7a460a4febb0>",
     "output_type": "error",
     "traceback": [
      "\u001b[0;31m---------------------------------------------------------------------------\u001b[0m",
      "\u001b[0;31mValueError\u001b[0m                                Traceback (most recent call last)",
      "Cell \u001b[0;32mIn[5], line 35\u001b[0m\n\u001b[1;32m     32\u001b[0m \u001b[38;5;28mprint\u001b[39m(\u001b[38;5;124m\"\u001b[39m\u001b[38;5;124m資料已更新!\u001b[39m\u001b[38;5;124m\"\u001b[39m)\n\u001b[1;32m     33\u001b[0m sp\u001b[38;5;241m=\u001b[39mBeautifulSoup(html,\u001b[38;5;124m'\u001b[39m\u001b[38;5;124mhtml.parser\u001b[39m\u001b[38;5;124m'\u001b[39m)\n\u001b[0;32m---> 35\u001b[0m jsondata\u001b[38;5;241m=\u001b[39m\u001b[43mast\u001b[49m\u001b[38;5;241;43m.\u001b[39;49m\u001b[43mliteral_eval\u001b[49m\u001b[43m(\u001b[49m\u001b[43msp\u001b[49m\u001b[38;5;241;43m.\u001b[39;49m\u001b[43mtext\u001b[49m\u001b[43m)\u001b[49m\n\u001b[1;32m     37\u001b[0m conn\u001b[38;5;241m.\u001b[39mexecute(\u001b[38;5;124m\"\u001b[39m\u001b[38;5;124mdelete from TablePM25\u001b[39m\u001b[38;5;124m\"\u001b[39m)\n\u001b[1;32m     38\u001b[0m conn\u001b[38;5;241m.\u001b[39mcommit()\n",
      "File \u001b[0;32m/usr/local/lib/python3.9/ast.py:105\u001b[0m, in \u001b[0;36mliteral_eval\u001b[0;34m(node_or_string)\u001b[0m\n\u001b[1;32m    103\u001b[0m                 \u001b[38;5;28;01mreturn\u001b[39;00m left \u001b[38;5;241m-\u001b[39m right\n\u001b[1;32m    104\u001b[0m     \u001b[38;5;28;01mreturn\u001b[39;00m _convert_signed_num(node)\n\u001b[0;32m--> 105\u001b[0m \u001b[38;5;28;01mreturn\u001b[39;00m \u001b[43m_convert\u001b[49m\u001b[43m(\u001b[49m\u001b[43mnode_or_string\u001b[49m\u001b[43m)\u001b[49m\n",
      "File \u001b[0;32m/usr/local/lib/python3.9/ast.py:94\u001b[0m, in \u001b[0;36mliteral_eval.<locals>._convert\u001b[0;34m(node)\u001b[0m\n\u001b[1;32m     92\u001b[0m     \u001b[38;5;28;01mif\u001b[39;00m \u001b[38;5;28mlen\u001b[39m(node\u001b[38;5;241m.\u001b[39mkeys) \u001b[38;5;241m!=\u001b[39m \u001b[38;5;28mlen\u001b[39m(node\u001b[38;5;241m.\u001b[39mvalues):\n\u001b[1;32m     93\u001b[0m         _raise_malformed_node(node)\n\u001b[0;32m---> 94\u001b[0m     \u001b[38;5;28;01mreturn\u001b[39;00m \u001b[38;5;28;43mdict\u001b[39;49m\u001b[43m(\u001b[49m\u001b[38;5;28;43mzip\u001b[39;49m\u001b[43m(\u001b[49m\u001b[38;5;28;43mmap\u001b[39;49m\u001b[43m(\u001b[49m\u001b[43m_convert\u001b[49m\u001b[43m,\u001b[49m\u001b[43m \u001b[49m\u001b[43mnode\u001b[49m\u001b[38;5;241;43m.\u001b[39;49m\u001b[43mkeys\u001b[49m\u001b[43m)\u001b[49m\u001b[43m,\u001b[49m\n\u001b[1;32m     95\u001b[0m \u001b[43m                    \u001b[49m\u001b[38;5;28;43mmap\u001b[39;49m\u001b[43m(\u001b[49m\u001b[43m_convert\u001b[49m\u001b[43m,\u001b[49m\u001b[43m \u001b[49m\u001b[43mnode\u001b[49m\u001b[38;5;241;43m.\u001b[39;49m\u001b[43mvalues\u001b[49m\u001b[43m)\u001b[49m\u001b[43m)\u001b[49m\u001b[43m)\u001b[49m\n\u001b[1;32m     96\u001b[0m \u001b[38;5;28;01melif\u001b[39;00m \u001b[38;5;28misinstance\u001b[39m(node, BinOp) \u001b[38;5;129;01mand\u001b[39;00m \u001b[38;5;28misinstance\u001b[39m(node\u001b[38;5;241m.\u001b[39mop, (Add, Sub)):\n\u001b[1;32m     97\u001b[0m     left \u001b[38;5;241m=\u001b[39m _convert_signed_num(node\u001b[38;5;241m.\u001b[39mleft)\n",
      "File \u001b[0;32m/usr/local/lib/python3.9/ast.py:104\u001b[0m, in \u001b[0;36mliteral_eval.<locals>._convert\u001b[0;34m(node)\u001b[0m\n\u001b[1;32m    102\u001b[0m         \u001b[38;5;28;01melse\u001b[39;00m:\n\u001b[1;32m    103\u001b[0m             \u001b[38;5;28;01mreturn\u001b[39;00m left \u001b[38;5;241m-\u001b[39m right\n\u001b[0;32m--> 104\u001b[0m \u001b[38;5;28;01mreturn\u001b[39;00m \u001b[43m_convert_signed_num\u001b[49m\u001b[43m(\u001b[49m\u001b[43mnode\u001b[49m\u001b[43m)\u001b[49m\n",
      "File \u001b[0;32m/usr/local/lib/python3.9/ast.py:78\u001b[0m, in \u001b[0;36mliteral_eval.<locals>._convert_signed_num\u001b[0;34m(node)\u001b[0m\n\u001b[1;32m     76\u001b[0m     \u001b[38;5;28;01melse\u001b[39;00m:\n\u001b[1;32m     77\u001b[0m         \u001b[38;5;28;01mreturn\u001b[39;00m \u001b[38;5;241m-\u001b[39m operand\n\u001b[0;32m---> 78\u001b[0m \u001b[38;5;28;01mreturn\u001b[39;00m \u001b[43m_convert_num\u001b[49m\u001b[43m(\u001b[49m\u001b[43mnode\u001b[49m\u001b[43m)\u001b[49m\n",
      "File \u001b[0;32m/usr/local/lib/python3.9/ast.py:69\u001b[0m, in \u001b[0;36mliteral_eval.<locals>._convert_num\u001b[0;34m(node)\u001b[0m\n\u001b[1;32m     67\u001b[0m \u001b[38;5;28;01mdef\u001b[39;00m \u001b[38;5;21m_convert_num\u001b[39m(node):\n\u001b[1;32m     68\u001b[0m     \u001b[38;5;28;01mif\u001b[39;00m \u001b[38;5;129;01mnot\u001b[39;00m \u001b[38;5;28misinstance\u001b[39m(node, Constant) \u001b[38;5;129;01mor\u001b[39;00m \u001b[38;5;28mtype\u001b[39m(node\u001b[38;5;241m.\u001b[39mvalue) \u001b[38;5;129;01mnot\u001b[39;00m \u001b[38;5;129;01min\u001b[39;00m (\u001b[38;5;28mint\u001b[39m, \u001b[38;5;28mfloat\u001b[39m, \u001b[38;5;28mcomplex\u001b[39m):\n\u001b[0;32m---> 69\u001b[0m         \u001b[43m_raise_malformed_node\u001b[49m\u001b[43m(\u001b[49m\u001b[43mnode\u001b[49m\u001b[43m)\u001b[49m\n\u001b[1;32m     70\u001b[0m     \u001b[38;5;28;01mreturn\u001b[39;00m node\u001b[38;5;241m.\u001b[39mvalue\n",
      "File \u001b[0;32m/usr/local/lib/python3.9/ast.py:66\u001b[0m, in \u001b[0;36mliteral_eval.<locals>._raise_malformed_node\u001b[0;34m(node)\u001b[0m\n\u001b[1;32m     65\u001b[0m \u001b[38;5;28;01mdef\u001b[39;00m \u001b[38;5;21m_raise_malformed_node\u001b[39m(node):\n\u001b[0;32m---> 66\u001b[0m     \u001b[38;5;28;01mraise\u001b[39;00m \u001b[38;5;167;01mValueError\u001b[39;00m(\u001b[38;5;124mf\u001b[39m\u001b[38;5;124m'\u001b[39m\u001b[38;5;124mmalformed node or string: \u001b[39m\u001b[38;5;132;01m{\u001b[39;00mnode\u001b[38;5;132;01m!r}\u001b[39;00m\u001b[38;5;124m'\u001b[39m)\n",
      "\u001b[0;31mValueError\u001b[0m: malformed node or string: <ast.Name object at 0x7a460a4febb0>"
     ]
    }
   ],
   "source": [
    "#範例:讀取PM2.5空氣細懸浮微粒\n",
    "\n",
    "import sqlite3,ast,hashlib,os,requests\n",
    "from bs4 import BeautifulSoup\n",
    "\n",
    "conn=sqlite3.connect(\"DataBasePM25.sqlite\")#建立資料庫連線\n",
    "\n",
    "cursor=conn.cursor()#建立cursor物件\n",
    "\n",
    "#建立資料表\n",
    "\n",
    "sqlstr='''\n",
    "Create Table If Not Exists TablePM25(\"no\"Integer Primary Key Autoincrement\n",
    "Not Null Unique,\"Sitename\"Text not null, \"PM25\" Integer)\n",
    "'''#建立no,sitename與PM25三欄位\n",
    "cursor.execute(sqlstr)\n",
    "\n",
    "url=\"https://data.moenv.gov.tw/api/v2/aqx_p_432?api_key=e8dd42e6-9b8b-43f8-991e-b3dee723a52d&limit=1000&sort=ImportDate desc&format=JSON\"\n",
    "\n",
    "html=requests.get(url,stream=True).text.encode(\"UTF-8\")\n",
    "\n",
    "md5=hashlib.md5(html).hexdigest()\n",
    "old_md5=\"\"\n",
    "\n",
    "if os.path.exists(\"old_md5.txt\"):\n",
    "    with open (\"old_md5.txt\",'r')as f:\n",
    "        old_md5=f.read()\n",
    "    with open(\"old_md5.txt\",'w')as f:\n",
    "        f.write(md5)\n",
    "\n",
    "if md5!=old_md5:\n",
    "    print(\"資料已更新!\")\n",
    "    sp=BeautifulSoup(html,'html.parser')\n",
    "\n",
    "    jsondata=ast.literal_eval(sp.text)\n",
    "\n",
    "    conn.execute(\"delete from TablePM25\")\n",
    "    conn.commit()\n",
    "\n",
    "    n=1\n",
    "    for site in jsondata:\n",
    "        Sitename=site[\"Sitename\"]\n",
    "        PM25=0 if site[\"PM2.5\"] == \"\" else int(site[\"PM2.5\"])     \n",
    "    print(\"站名:{}   PM2.5={}\".format(SiteName,PM25))\n",
    "    # 新增一筆記錄\n",
    "    sqlstr=\"insert into TablePM25 values({},'{}',{})\" .format(n,SiteName,PM25)\n",
    "    cursor.execute(sqlstr)\n",
    "    n+=1\n",
    "    conn.commit() # 主動更新  \n",
    "\n",
    "conn.close()  # 關閉資料庫連  "
   ]
  },
  {
   "cell_type": "code",
   "execution_count": 6,
   "metadata": {},
   "outputs": [
    {
     "ename": "NameError",
     "evalue": "name '__file__' is not defined",
     "output_type": "error",
     "traceback": [
      "\u001b[0;31m---------------------------------------------------------------------------\u001b[0m",
      "\u001b[0;31mNameError\u001b[0m                                 Traceback (most recent call last)",
      "Cell \u001b[0;32mIn[6], line 4\u001b[0m\n\u001b[1;32m      1\u001b[0m \u001b[38;5;28;01mimport\u001b[39;00m \u001b[38;5;21;01msqlite3\u001b[39;00m\u001b[38;5;241m,\u001b[39m\u001b[38;5;21;01mast\u001b[39;00m\u001b[38;5;241m,\u001b[39m\u001b[38;5;21;01mrequests\u001b[39;00m\u001b[38;5;241m,\u001b[39m\u001b[38;5;21;01mos\u001b[39;00m\n\u001b[1;32m      2\u001b[0m \u001b[38;5;28;01mfrom\u001b[39;00m \u001b[38;5;21;01mbs4\u001b[39;00m \u001b[38;5;28;01mimport\u001b[39;00m BeautifulSoup\n\u001b[0;32m----> 4\u001b[0m cur_path\u001b[38;5;241m=\u001b[39mos\u001b[38;5;241m.\u001b[39mpath\u001b[38;5;241m.\u001b[39mdirname(\u001b[38;5;18;43m__file__\u001b[39;49m) \u001b[38;5;66;03m# 取得目前路徑\u001b[39;00m\n\u001b[1;32m      5\u001b[0m conn \u001b[38;5;241m=\u001b[39m sqlite3\u001b[38;5;241m.\u001b[39mconnect(cur_path \u001b[38;5;241m+\u001b[39m \u001b[38;5;124m'\u001b[39m\u001b[38;5;124m/\u001b[39m\u001b[38;5;124m'\u001b[39m \u001b[38;5;241m+\u001b[39m \u001b[38;5;124m'\u001b[39m\u001b[38;5;124mDataBasePM25.sqlite\u001b[39m\u001b[38;5;124m'\u001b[39m) \u001b[38;5;66;03m# 建立資料庫連線\u001b[39;00m\n\u001b[1;32m      6\u001b[0m cursor \u001b[38;5;241m=\u001b[39m conn\u001b[38;5;241m.\u001b[39mcursor() \u001b[38;5;66;03m# 建立 cursor 物件\u001b[39;00m\n",
      "\u001b[0;31mNameError\u001b[0m: name '__file__' is not defined"
     ]
    }
   ],
   "source": [
    "import sqlite3,ast,requests,os\n",
    "from bs4 import BeautifulSoup\n",
    "\n",
    "cur_path=os.path.dirname(__file__) # 取得目前路徑\n",
    "conn = sqlite3.connect(cur_path + '/' + 'DataBasePM25.sqlite') # 建立資料庫連線\n",
    "cursor = conn.cursor() # 建立 cursor 物件\n",
    "\n",
    "# 建立一個資料表\n",
    "sqlstr='''\n",
    "CREATE TABLE IF NOT EXISTS TablePM25 (\"no\" INTEGER PRIMARY KEY AUTOINCREMENT \n",
    "NOT NULL UNIQUE ,\"SiteName\" TEXT NOT NULL ,\"PM25\" INTEGER)\n",
    "'''\n",
    "cursor.execute(sqlstr)\n",
    "\n",
    "url = \"https://data.moenv.gov.tw/api/v2/aqx_p_432?api_key=e8dd42e6-9b8b-43f8-991e-b3dee723a52d&limit=1000&sort=ImportDate desc&format=JSON\"\n",
    "# 讀取網頁原始碼\n",
    "html=requests.get(url).text.encode('utf-8-sig')\n",
    "\n",
    "print('資料已更新...')    \n",
    "sp=BeautifulSoup(html,'html.parser')    \n",
    "# 將網頁內轉換為 list,list 中的元素是 dict \n",
    "jsondata = ast.literal_eval(sp.text)\n",
    "# 刪除資料表內容\n",
    "conn.execute(\"delete from TablePM25\")\n",
    "conn.commit()\n",
    "\n",
    "n=1\n",
    "for site in jsondata:\n",
    "    SiteName=site[\"SiteName\"]\n",
    "    PM25=0 if site[\"PM2.5\"] == \"\" else int(site[\"PM2.5\"])     \n",
    "    print(\"站名:{}   PM2.5={}\".format(SiteName,PM25))\n",
    "    # 新增一筆記錄\n",
    "    sqlstr=\"insert into TablePM25 values({},'{}',{})\" .format(n,SiteName,PM25)\n",
    "    cursor.execute(sqlstr)\n",
    "    n+=1\n",
    "    conn.commit() # 主動更新  \n",
    "\n",
    "conn.close()  # 關閉資料庫連  "
   ]
  },
  {
   "cell_type": "code",
   "execution_count": 7,
   "metadata": {},
   "outputs": [
    {
     "ename": "NameError",
     "evalue": "name '__file__' is not defined",
     "output_type": "error",
     "traceback": [
      "\u001b[0;31m---------------------------------------------------------------------------\u001b[0m",
      "\u001b[0;31mNameError\u001b[0m                                 Traceback (most recent call last)",
      "Cell \u001b[0;32mIn[7], line 4\u001b[0m\n\u001b[1;32m      1\u001b[0m \u001b[38;5;28;01mimport\u001b[39;00m \u001b[38;5;21;01msqlite3\u001b[39;00m\u001b[38;5;241m,\u001b[39m\u001b[38;5;21;01mast\u001b[39;00m\u001b[38;5;241m,\u001b[39m\u001b[38;5;21;01mrequests\u001b[39;00m\u001b[38;5;241m,\u001b[39m\u001b[38;5;21;01mos\u001b[39;00m\n\u001b[1;32m      2\u001b[0m \u001b[38;5;28;01mfrom\u001b[39;00m \u001b[38;5;21;01mbs4\u001b[39;00m \u001b[38;5;28;01mimport\u001b[39;00m BeautifulSoup\n\u001b[0;32m----> 4\u001b[0m cur_path\u001b[38;5;241m=\u001b[39mos\u001b[38;5;241m.\u001b[39mpath\u001b[38;5;241m.\u001b[39mdirname(\u001b[38;5;18;43m__file__\u001b[39;49m) \u001b[38;5;66;03m# 取得目前路徑\u001b[39;00m\n\u001b[1;32m      5\u001b[0m conn \u001b[38;5;241m=\u001b[39m sqlite3\u001b[38;5;241m.\u001b[39mconnect(cur_path \u001b[38;5;241m+\u001b[39m \u001b[38;5;124m'\u001b[39m\u001b[38;5;124m/\u001b[39m\u001b[38;5;124m'\u001b[39m \u001b[38;5;241m+\u001b[39m \u001b[38;5;124m'\u001b[39m\u001b[38;5;124mDataBasePM25.sqlite\u001b[39m\u001b[38;5;124m'\u001b[39m) \u001b[38;5;66;03m# 建立資料庫連線\u001b[39;00m\n\u001b[1;32m      6\u001b[0m cursor \u001b[38;5;241m=\u001b[39m conn\u001b[38;5;241m.\u001b[39mcursor() \u001b[38;5;66;03m# 建立 cursor 物件\u001b[39;00m\n",
      "\u001b[0;31mNameError\u001b[0m: name '__file__' is not defined"
     ]
    }
   ],
   "source": [
    "import sqlite3,ast,requests,os\n",
    "from bs4 import BeautifulSoup\n",
    "\n",
    "cur_path=os.path.dirname(__file__) # 取得目前路徑\n",
    "conn = sqlite3.connect(cur_path + '/' + 'DataBasePM25.sqlite') # 建立資料庫連線\n",
    "cursor = conn.cursor() # 建立 cursor 物件\n",
    "\n",
    "# 建立一個資料表\n",
    "sqlstr='''\n",
    "CREATE TABLE IF NOT EXISTS TablePM25 (\"no\" INTEGER PRIMARY KEY AUTOINCREMENT \n",
    "NOT NULL UNIQUE ,\"SiteName\" TEXT NOT NULL ,\"PM25\" INTEGER)\n",
    "'''\n",
    "cursor.execute(sqlstr)\n",
    "\n",
    "url = \"http://opendata.epa.gov.tw/ws/Data/REWXQA/?\\\n",
    "$orderby=SiteName&$skip=0&$top=1000&format=json\"\n",
    "# 讀取網頁原始碼\n",
    "html=requests.get(url).text.encode('utf-8-sig')\n",
    "\n",
    "print('資料已更新...')    \n",
    "sp=BeautifulSoup(html,'html.parser')    \n",
    "# 將網頁內轉換為 list,list 中的元素是 dict \n",
    "jsondata = ast.literal_eval(sp.text)\n",
    "# 刪除資料表內容\n",
    "conn.execute(\"delete from TablePM25\")\n",
    "conn.commit()\n",
    "\n",
    "n=1\n",
    "for site in jsondata:\n",
    "    SiteName=site[\"SiteName\"]\n",
    "    PM25=0 if site[\"PM2.5\"] == \"\" else int(site[\"PM2.5\"])     \n",
    "    print(\"站名:{}   PM2.5={}\".format(SiteName,PM25))\n",
    "    # 新增一筆記錄\n",
    "    sqlstr=\"insert into TablePM25 values({},'{}',{})\" .format(n,SiteName,PM25)\n",
    "    cursor.execute(sqlstr)\n",
    "    n+=1\n",
    "    conn.commit() # 主動更新  \n",
    "\n",
    "conn.close()  # 關閉資料庫連  "
   ]
  }
 ],
 "metadata": {
  "kernelspec": {
   "display_name": "Python 3",
   "language": "python",
   "name": "python3"
  },
  "language_info": {
   "codemirror_mode": {
    "name": "ipython",
    "version": 3
   },
   "file_extension": ".py",
   "mimetype": "text/x-python",
   "name": "python",
   "nbconvert_exporter": "python",
   "pygments_lexer": "ipython3",
   "version": "3.9.17"
  }
 },
 "nbformat": 4,
 "nbformat_minor": 2
}
