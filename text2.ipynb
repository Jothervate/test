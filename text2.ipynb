{
 "cells": [
  {
   "cell_type": "code",
   "execution_count": 2,
   "metadata": {},
   "outputs": [
    {
     "name": "stdout",
     "output_type": "stream",
     "text": [
      "a大於18\n",
      "執行結束\n"
     ]
    }
   ],
   "source": [
    "a=21\n",
    "if a>18:\n",
    "    print(\"a大於18\")\n",
    "print(\"執行結束\")"
   ]
  },
  {
   "cell_type": "code",
   "execution_count": 4,
   "metadata": {},
   "outputs": [
    {
     "name": "stdout",
     "output_type": "stream",
     "text": [
      "學生成績為300\n"
     ]
    }
   ],
   "source": [
    "scores=int(input(\"請輸入學生成績(不可超過300分)\"))\n",
    "is_add=input(\"學生是否可加分?(y,n)\")\n",
    "\n",
    "if (is_add=='y'):\n",
    "    scores*=1.05\n",
    "    if scores>=300:\n",
    "        scores=300\n",
    "print(f'學生成績為{scores}')"
   ]
  },
  {
   "cell_type": "code",
   "execution_count": 9,
   "metadata": {},
   "outputs": [
    {
     "name": "stdout",
     "output_type": "stream",
     "text": [
      "危\n"
     ]
    }
   ],
   "source": [
    "disaster=True\n",
    "\n",
    "if disaster:\n",
    "    print(\"危\")\n",
    "else:\n",
    "    print('沒事')"
   ]
  },
  {
   "cell_type": "code",
   "execution_count": 17,
   "metadata": {},
   "outputs": [
    {
     "name": "stdout",
     "output_type": "stream",
     "text": [
      "密碼正確!\n"
     ]
    }
   ],
   "source": [
    "password=int(input(\"請輸入密碼:\"))\n",
    "\n",
    "if password==1234:\n",
    "    print('密碼正確!')\n",
    "else:\n",
    "    print('密碼錯誤\\n請重新輸入')"
   ]
  },
  {
   "cell_type": "code",
   "execution_count": 20,
   "metadata": {},
   "outputs": [
    {
     "name": "stdout",
     "output_type": "stream",
     "text": [
      "實付金額為9000\n"
     ]
    }
   ],
   "source": [
    "Cash=int(input('請輸入金額:'))\n",
    "if Cash>=100000:\n",
    "    Cash*=0.8\n",
    "elif Cash>=50000:\n",
    "    Cash*=0.85\n",
    "elif Cash>=30000:\n",
    "    Cash*=0.9\n",
    "elif Cash>=10000:\n",
    "    Cash*=0.95\n",
    "print(f\"實付金額為{Cash}\")"
   ]
  },
  {
   "cell_type": "code",
   "execution_count": 32,
   "metadata": {},
   "outputs": [
    {
     "name": "stdout",
     "output_type": "stream",
     "text": [
      "輔導級\n"
     ]
    }
   ],
   "source": [
    "age=input('請輸入年齡:')\n",
    "rating=''\n",
    "\n",
    "if age=='':\n",
    "    rating='普遍級'\n",
    "elif int(age) < 13:\n",
    "    rating='普遍級'\n",
    "elif int(age) < 18:\n",
    "    rating='輔導級'\n",
    "else:\n",
    "    rating='限制級'\n",
    "print(rating)"
   ]
  },
  {
   "cell_type": "code",
   "execution_count": 33,
   "metadata": {},
   "outputs": [
    {
     "name": "stdout",
     "output_type": "stream",
     "text": [
      "ok-1\n",
      "ok-2\n",
      "ok-3\n"
     ]
    }
   ],
   "source": [
    "a=14\n",
    "if a>=12 and a<18 :\n",
    "\tprint(\"ok-1\")\n",
    "else:\n",
    "\tprint(\"cancel- 1\") \n",
    "\t\n",
    "if 12<=a<18:\n",
    "\tprint(\"ok-2\") \n",
    "else:\n",
    "\tprint(\"cancel- 2\")\n",
    "\t\n",
    "if not a>18:\n",
    "\tprint(\"ok-3\") \n",
    "else:\n",
    "\tprint(\"cancel- 3\")"
   ]
  }
 ],
 "metadata": {
  "kernelspec": {
   "display_name": "Python 3",
   "language": "python",
   "name": "python3"
  },
  "language_info": {
   "codemirror_mode": {
    "name": "ipython",
    "version": 3
   },
   "file_extension": ".py",
   "mimetype": "text/x-python",
   "name": "python",
   "nbconvert_exporter": "python",
   "pygments_lexer": "ipython3",
   "version": "3.10.8"
  },
  "orig_nbformat": 4
 },
 "nbformat": 4,
 "nbformat_minor": 2
}
