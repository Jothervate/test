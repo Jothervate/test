{
 "cells": [
  {
   "cell_type": "code",
   "execution_count": 3,
   "metadata": {},
   "outputs": [
    {
     "name": "stdout",
     "output_type": "stream",
     "text": [
      "未更改飲料1的飲料為coco\n",
      "未更改飲料2的飲料為starbox\n",
      "==========================\n",
      "已更改飲料1的飲料為starbox\n",
      "已更改飲料2的飲料為coco\n"
     ]
    }
   ],
   "source": [
    "cup1=input(\"請輸入飲料1的名稱\")\n",
    "cup2=input(\"請輸入飲料2的名稱\")\n",
    "emptycup=''\n",
    "\n",
    "print(\"未更改飲料1的飲料為%s\"%(cup1))\n",
    "print(\"未更改飲料2的飲料為%s\"%(cup2))\n",
    "\n",
    "emptycup=cup1\n",
    "cup1=cup2\n",
    "cup2=emptycup\n",
    "\n",
    "print(\"==========================\")\n",
    "\n",
    "print(\"已更改飲料1的飲料為%s\"%(cup1))\n",
    "print(\"已更改飲料2的飲料為%s\"%(cup2))"
   ]
  },
  {
   "cell_type": "code",
   "execution_count": 3,
   "metadata": {},
   "outputs": [
    {
     "name": "stdout",
     "output_type": "stream",
     "text": [
      "99\n"
     ]
    }
   ],
   "source": [
    "#pow=平方\n",
    "#print(pow(3,2))\n",
    "\n",
    "#round=四捨五入\n",
    "#print(round(3.14159))\n",
    "\n",
    "#abs=絕對值\n",
    "print(abs(-99))\n",
    "\n"
   ]
  },
  {
   "cell_type": "code",
   "execution_count": 11,
   "metadata": {},
   "outputs": [
    {
     "name": "stdout",
     "output_type": "stream",
     "text": [
      "圓的面積為28.27\n"
     ]
    }
   ],
   "source": [
    "#四捨五入、無條件進位&捨去:\n",
    "#先引進數學模塊\n",
    "import math\n",
    "\n",
    "x=9.569\n",
    "\n",
    "#print(round(x))\n",
    "\n",
    "#無條件進位:\n",
    "# print(math.ceil(x))\n",
    "\n",
    "#無條件捨去:\n",
    "#print(math.floor(x))\n",
    "\n",
    "#圓周率:\n",
    "#print(math.pi)\n",
    "\n",
    "#計算圓周長:\n",
    "#radius=float(input(\"請輸入圓的半徑:\"))\n",
    "#c=2*(math.pi)*radius\n",
    "#print(f\"圓的周長為{round(c,2)}\")\n",
    "\n",
    "#計算圓面積:\n",
    "radius=float(input(\"請輸入圓的半徑:\"))\n",
    "c=(math.pi)*radius**2\n",
    "print(f\"圓的面積為{round(c,2)}\")\n"
   ]
  },
  {
   "cell_type": "code",
   "execution_count": 4,
   "metadata": {},
   "outputs": [
    {
     "name": "stdout",
     "output_type": "stream",
     "text": [
      "結果為:70.324\n"
     ]
    }
   ],
   "source": [
    "#計算機:\n",
    "\n",
    "RT=input(\"請輸入+,-,*or/其中之一:\")\n",
    "\n",
    "num1=float(input(\"請輸入第一個數字:\"))\n",
    "num2=float(input(\"請輸入第二個數字:\"))\n",
    "\n",
    "if RT==\"+\":\n",
    "    num=num1+num2\n",
    "elif RT=='-':\n",
    "    num=num1-num2\n",
    "elif RT == \"*\":\n",
    "    num=num1*num2\n",
    "elif RT==\"/\":\n",
    "    num=num1/num2\n",
    "else:\n",
    "    print(\"運算符號輸入不正確!\")\n",
    "\n",
    "\n",
    "print(f\"結果為:{round(num,3)}\")"
   ]
  },
  {
   "cell_type": "code",
   "execution_count": 7,
   "metadata": {},
   "outputs": [
    {
     "name": "stdout",
     "output_type": "stream",
     "text": [
      "共為110.0磅\n",
      "程序結束\n"
     ]
    }
   ],
   "source": [
    "import math\n",
    "\n",
    "#體重計算\n",
    "weight=float(input(\"請輸入體重:\"))\n",
    "unit=input(\"要轉換為公斤/磅(kg/lb)\").upper()\n",
    "\n",
    "if unit==\"KG\":\n",
    "    weight/=2.2\n",
    "    print(f\"共為{round(weight,3)}公斤\")\n",
    "elif unit==\"LB\":\n",
    "    weight*=2.2\n",
    "    print(f\"共為{round(weight,3)}磅\")\n",
    "\n",
    "else:\n",
    "    print(\"單位不正確!\")\n",
    "\n",
    "print(\"程序結束\")\n"
   ]
  },
  {
   "cell_type": "code",
   "execution_count": 6,
   "metadata": {},
   "outputs": [
    {
     "name": "stdout",
     "output_type": "stream",
     "text": [
      "華氏溫度為32.0\n",
      "程序結束\n"
     ]
    }
   ],
   "source": [
    "#溫度計\n",
    "\n",
    "tem=float(input(\"請輸入溫度:\"))\n",
    "unit=input(\"要轉為攝氏/華式(c/f)\").upper()\n",
    "\n",
    "if unit==\"C\":\n",
    "    cel=(tem-32)*5/9\n",
    "    print(f\"攝氏溫度為{round(cel,3)}\")\n",
    "elif unit=='F':\n",
    "    fah=tem*9/5 +32\n",
    "    print(f'華氏溫度為{round(fah,3)}')\n",
    "else:\n",
    "    print(\"嗯?你的單位不正喔!讓我看看!\")\n",
    "\n",
    "print(\"程序結束\")\n"
   ]
  },
  {
   "cell_type": "code",
   "execution_count": 13,
   "metadata": {},
   "outputs": [
    {
     "name": "stdout",
     "output_type": "stream",
     "text": [
      "你的個人身分不可超過十二字!\n"
     ]
    }
   ],
   "source": [
    "#ID設定器:\n",
    "\n",
    "ID=input(\"請輸入你的個人身分:\")\n",
    "\n",
    "if len(ID)>12:\n",
    "    print(\"你的個人身分不可超過十二字!\")\n",
    "    \n",
    "elif \" \" in ID:\n",
    "    print(\"不可包含空白字元!\")\n",
    "\n",
    "elif not ID.isalpha():\n",
    "    print(\"必須全英文!\") \n",
    "\n",
    "    \n",
    "\n",
    "else :\n",
    "    print(\"歡迎\"+ID)"
   ]
  },
  {
   "cell_type": "code",
   "execution_count": 4,
   "metadata": {},
   "outputs": [
    {
     "name": "stdout",
     "output_type": "stream",
     "text": [
      "1\n",
      "2\n",
      "J\n",
      "D\n"
     ]
    }
   ],
   "source": [
    "#字串文字搜尋\n",
    "\n",
    "word=\"123-978-ADJ\"\n",
    "\n",
    "#python 從0開始為頭\n",
    "first_word=word[0]\n",
    "\n",
    "print(first_word)\n",
    "\n",
    "second_word=word[1]\n",
    "\n",
    "print(second_word)\n",
    "\n",
    "#python -1為末尾\n",
    "final_word=word[-1]\n",
    "\n",
    "print(final_word)\n",
    "\n",
    "secfinal_word=word[-2]\n",
    "\n",
    "print(secfinal_word)"
   ]
  },
  {
   "cell_type": "code",
   "execution_count": 11,
   "metadata": {},
   "outputs": [
    {
     "name": "stdout",
     "output_type": "stream",
     "text": [
      "8\n",
      "JOJO0543\n",
      "@gmail.com\n",
      "gmail.com\n"
     ]
    }
   ],
   "source": [
    "#email搜尋文字位置\n",
    "\n",
    "email=\"JOJO0543@gmail.com\"\n",
    "#用index功能來搜尋@位置\n",
    "findat=email.index(\"@\")\n",
    "print(findat)\n",
    "print(email[:findat])\n",
    "print(email[findat:])\n",
    "#若不想包含@在內:\n",
    "print(email[findat+1:])"
   ]
  },
  {
   "cell_type": "code",
   "execution_count": 12,
   "metadata": {},
   "outputs": [
    {
     "name": "stdout",
     "output_type": "stream",
     "text": [
      "價格一為  +33.12  \n",
      "價格二為  -20.00  \n",
      "價格三為  +12.00  \n"
     ]
    }
   ],
   "source": [
    "#python 中的f-string字串格式化:\n",
    "\n",
    "price1=33.1234\n",
    "price2=-20\n",
    "price3=12.00\n",
    "#精準小數點\n",
    "#print(f\"價格一為{price1:.2f}\\n\"\n",
    "#    f\"價格二為{price2:.2f}\\n\"\n",
    "#    f\"價格三為{price3:.2f}\")\n",
    "\n",
    "#加上正負符號:\n",
    "#print(f\"價格一為{price1:+.2f}\\n\"\n",
    "#    f\"價格二為{price2:+.2f}\\n\"\n",
    "#    f\"價格三為{price3:+.2f}\")\n",
    "\n",
    "#對齊< ^ >\n",
    "\n",
    "#靠左\n",
    "#print(f\"價格一為{price1:<10.2f}\\n\"\n",
    "#    f\"價格二為{price2:<10.2f}\\n\"\n",
    "#    f\"價格三為{price3:<10.2f}\")\n",
    "\n",
    "#靠右\n",
    "#print(f\"價格一為{price1:>10.2f}\\n\"\n",
    "#    f\"價格二為{price2:>10.2f}\\n\"\n",
    "#    f\"價格三為{price3:>10.2f}\")\n",
    "\n",
    "#置中\n",
    "#print(f\"價格一為{price1:^10.2f}\\n\"\n",
    "#    f\"價格二為{price2:^10.2f}\\n\"\n",
    "#    f\"價格三為{price3:^10.2f}\")\n",
    "\n",
    "#混合\n",
    "#print(f\"價格一為{price1:^+10.2f}\\n\"\n",
    "#    f\"價格二為{price2:^+10.2f}\\n\"\n",
    "#    f\"價格三為{price3:^+10.2f}\")\n"
   ]
  },
  {
   "cell_type": "code",
   "execution_count": 16,
   "metadata": {},
   "outputs": [
    {
     "name": "stdout",
     "output_type": "stream",
     "text": [
      "你喜歡的食物為\n",
      "你喜歡的食物為chocolate\n",
      "你喜歡的食物為banana\n",
      "程序結束\n"
     ]
    }
   ],
   "source": [
    "#while迴圈:\n",
    "\n",
    "#name=input(\"請輸入名字:\")\n",
    "#while name=='' or name==\" \":\n",
    "#    print(\"你沒有輸入名字!\")\n",
    "#    name=input(\"請輸入名字:\")\n",
    "#print(f\"你的名字是{name}\")\n",
    "\n",
    "#喜歡的食物:\n",
    "food = \"\"\n",
    "while food!=\"q\":\n",
    "    print(f\"你喜歡的食物為{food}\")\n",
    "    food = input(\"請輸入你喜歡的食物(按q離開):\")\n",
    "print(\"程序結束\")"
   ]
  },
  {
   "cell_type": "code",
   "execution_count": 3,
   "metadata": {},
   "outputs": [
    {
     "name": "stdout",
     "output_type": "stream",
     "text": [
      "本金為30000\n",
      "利率為10.0\n",
      "時間為10\n",
      "總賺為77812.274\n",
      "利潤為47812.274\n"
     ]
    }
   ],
   "source": [
    "#複利計算機:\n",
    "\n",
    "amount=0\n",
    "while amount<=0:\n",
    "    amount=int(input(\"請輸入本金:\"))\n",
    "    if amount<=0:\n",
    "        print(\"本金不可小於等於零!\")\n",
    "\n",
    "rate=0\n",
    "while rate <=0:\n",
    "    rate=float(input(\"請輸入利率:\"))\n",
    "    if rate<=0:\n",
    "        print(\"利率不可小於等於零!\")\n",
    "\n",
    "time=0\n",
    "while time<=0:\n",
    "    time=int(input(\"請輸入時間:\"))\n",
    "    if time<=0:\n",
    "        print(\"時間不可為零!\")\n",
    "\n",
    "total=amount*(1+(rate/100))**time\n",
    "net=total-amount\n",
    "print(f\"本金為{amount}\")\n",
    "print(f\"利率為{rate}\")\n",
    "print(f\"時間為{time}\")\n",
    "print(f\"總賺為{round(total,3)}\")\n",
    "print(f\"利潤為{round(net,3)}\")"
   ]
  },
  {
   "cell_type": "code",
   "execution_count": 11,
   "metadata": {},
   "outputs": [
    {
     "name": "stdout",
     "output_type": "stream",
     "text": [
      "key a\n",
      "value 2\n",
      "key b\n",
      "value 4\n",
      "key c\n",
      "value 6\n"
     ]
    }
   ],
   "source": [
    "#for 迴圈:\n",
    "\n",
    "#字典dict\n",
    "#鍵=key;值=value\n",
    "\n",
    "my_dict= {'a':2,'b':4,'c':6}\n",
    "#以下方法只會顯示my_dict的鍵;但不會顯示值:\n",
    "#for x in my_dict:\n",
    "#    print(x)\n",
    "#若要鍵,值同在,則:\n",
    "\n",
    "for key,value in my_dict.items():\n",
    "    print(\"key\",key)\n",
    "    print(\"value\",value)"
   ]
  },
  {
   "cell_type": "markdown",
   "metadata": {},
   "source": []
  },
  {
   "cell_type": "code",
   "execution_count": 24,
   "metadata": {},
   "outputs": [
    {
     "name": "stdout",
     "output_type": "stream",
     "text": [
      "1*1=1 \n",
      "2*1=2 \n",
      "2*2=4 \n",
      "3*1=3 \n",
      "3*2=6 \n",
      "3*3=9 \n",
      "4*1=4 \n",
      "4*2=8 \n",
      "4*3=12  \n",
      "4*4=16  \n",
      "5*1=5 \n",
      "5*2=10  \n",
      "5*3=15  \n",
      "5*4=20  \n",
      "5*5=25  \n",
      "6*1=6 \n",
      "6*2=12  \n",
      "6*3=18  \n",
      "6*4=24  \n",
      "6*5=30  \n",
      "6*6=36  \n",
      "7*1=7 \n",
      "7*2=14  \n",
      "7*3=21  \n",
      "7*4=28  \n",
      "7*5=35  \n",
      "7*6=42  \n",
      "7*7=49  \n",
      "8*1=8 \n",
      "8*2=16  \n",
      "8*3=24  \n",
      "8*4=32  \n",
      "8*5=40  \n",
      "8*6=48  \n",
      "8*7=56  \n",
      "8*8=64  \n",
      "9*1=9 \n",
      "9*2=18  \n",
      "9*3=27  \n",
      "9*4=36  \n",
      "9*5=45  \n",
      "9*6=54  \n",
      "9*7=63  \n",
      "9*8=72  \n",
      "9*9=81  \n"
     ]
    }
   ],
   "source": [
    "#巢狀迴圈:\n",
    "#九九乘法表:\n",
    "for i in range (1,10):\n",
    "    for j in range(1,i+1):\n",
    "        if i*j<10:\n",
    "            print(f\"{i}*{j}={i*j}\",end=\" \")\n",
    "        elif i*j>=10:\n",
    "            print(f\"{i}*{j}={i*j}\",end=\"  \")\n",
    "        print()"
   ]
  },
  {
   "cell_type": "code",
   "execution_count": 20,
   "metadata": {},
   "outputs": [
    {
     "name": "stdout",
     "output_type": "stream",
     "text": [
      "$ $ $ \n",
      "$ $ $ \n",
      "$ $ $ \n",
      "$ $ $ \n",
      "$ $ $ \n",
      "$ $ $ \n",
      "$ $ $ \n",
      "$ $ $ \n",
      "$ $ $ \n",
      "$ $ $ \n"
     ]
    }
   ],
   "source": [
    "#矩陣:\n",
    "rows=int(input(\"請輸入行數:\"))\n",
    "cols=int(input(\"請輸入列數:\"))\n",
    "symbols=input(\"請輸入符號:\")\n",
    "\n",
    "for i in range(rows):\n",
    "    for j in range(cols):\n",
    "        print(symbols,end=\" \")\n",
    "    print()"
   ]
  },
  {
   "cell_type": "code",
   "execution_count": 27,
   "metadata": {},
   "outputs": [
    {
     "name": "stdout",
     "output_type": "stream",
     "text": [
      "ザ．ワルド！時を止まれ！\n",
      "5\n",
      "4\n",
      "3\n",
      "2\n",
      "1\n",
      "時を動きです。\n"
     ]
    }
   ],
   "source": [
    "#碼表:\n",
    "#需先使用import time 喚醒time功能:\n",
    "import time\n",
    "my_time=int(input(\"請輸入秒數:\"))\n",
    "print(\"ザ．ワルド！時を止まれ！\")\n",
    "#range(num1,num2,num3)。num1=設定秒數;num2=什麼數字為終點;num3==-1--以倒數方式來讀秒\n",
    "for t in range(my_time,0,-1):\n",
    "    \n",
    "    print(t)\n",
    "#使用time.sleep()來決定以幾秒的時間來倒數(sleep(1)=one second ; sleep(2)=two second,etc):\n",
    "    time.sleep(1)\n",
    "print(\"時を動きです。\")\n"
   ]
  },
  {
   "cell_type": "code",
   "execution_count": 2,
   "metadata": {},
   "outputs": [
    {
     "name": "stdout",
     "output_type": "stream",
     "text": [
      "ザ．ワルド！時を止まれ！\n",
      "00:05\n",
      "00:04\n",
      "00:03\n",
      "00:02\n",
      "00:01\n",
      "時を動きです。\n"
     ]
    }
   ],
   "source": [
    "#製作00:00碼表:\n",
    "import time\n",
    "spe_time=int(input(\"請輸入時間:\"))\n",
    "print(\"ザ．ワルド！時を止まれ！\")\n",
    "for x in range(spe_time,0,-1):\n",
    "    #下為second & minute 的計算公式:\n",
    "    second=x%60\n",
    "    minute=x//60%60\n",
    "    #必須以{minute:02}:{second:02}方能現出00:00的結果\n",
    "    print(f\"{minute:02}:{second:02}\")\n",
    "    time.sleep(1)\n",
    "print(\"時を動きです。\")"
   ]
  },
  {
   "cell_type": "code",
   "execution_count": 24,
   "metadata": {},
   "outputs": [
    {
     "name": "stdout",
     "output_type": "stream",
     "text": [
      "['芒果', '西瓜']\n"
     ]
    }
   ],
   "source": [
    "#list,set&tumple\n",
    "\n",
    "#list --可更改位置,串列,有明確的順序\n",
    "\n",
    "list=['草莓','香蕉','芭樂']\n",
    "\n",
    "#加入字串\n",
    "# print(list)\n",
    "# list.append(\"蕪菁\")\n",
    "# print(list)\n",
    "\n",
    "\n",
    "#移除字串\n",
    "# list.remove(\"草莓\")\n",
    "# print(list)\n",
    "\n",
    "#搜索字串位置\n",
    "# print(list.index(\"草莓\"))\n",
    "\n",
    "#計算某字串出現數\n",
    "# list.append(\"草莓\")\n",
    "# list.append(\"草莓\")\n",
    "# print(list.count(\"草莓\"))\n",
    "\n",
    "#倒置list列表\n",
    "# print(list)\n",
    "# list.reverse()\n",
    "# print(list)\n",
    "\n",
    "#set--用{}建立--沒有順序--可用.add()方法加入物件\n",
    "\n",
    "# fruit_set={\"蕉蕉\",\"芒果\",\"apple\"}\n",
    "# fruit_set.add(\"巧克力\")\n",
    "# print(fruit_set)\n",
    "# fruit_set={\"蕉蕉\",\"芒果\",\"apple\"}\n",
    "# for i in fruit_set:\n",
    "#     print(i,end=' ')\n",
    "\n",
    "# 在set中找出某字串:\n",
    "# if \"蕉蕉\"in fruit_set:\n",
    "#     print (\"存在!\")\n",
    "\n",
    "# if \"喬魯諾\"in fruit_set:\n",
    "#     print(\"JOJO在!\")\n",
    "# else:\n",
    "#     print(\"沒有此人喔\")\n",
    "\n",
    "#tumple--不可更改位置,有嚴格的字串規定\n",
    "# tumple=[\"巧克力\",\"芒果\",\"西瓜\"]\n",
    "\n",
    "# print(tumple)\n",
    "\n",
    "#同list一樣,不可用.add()方法加入物件\n",
    "# tumple.add(\"JOJO\")\n",
    "# print(tumple)\n",
    "\n",
    "#但可用.append()方法加入串列\n",
    "# tumple=[\"巧克力\",\"芒果\",\"西瓜\"]\n",
    "# tumple.append(\"JOJO\")\n",
    "# print(tumple)\n",
    "\n",
    "#也可用.remove()方法\n",
    "# tumple=[\"巧克力\",\"芒果\",\"西瓜\"]\n",
    "# tumple.remove(\"巧克力\")\n",
    "# print(tumple)"
   ]
  },
  {
   "cell_type": "code",
   "execution_count": 43,
   "metadata": {},
   "outputs": [
    {
     "name": "stdout",
     "output_type": "stream",
     "text": [
      "第1商品是香蕉,價格為50.00\n",
      "第2商品是西瓜,價格為100.00\n",
      "第3商品是平底鍋,價格為850.00\n",
      "第4商品是鑽戒,價格為20000.00\n",
      "你購買了['香蕉', '西瓜', '平底鍋', '鑽戒']\n",
      "總價格為:$21000.0\n"
     ]
    }
   ],
   "source": [
    "#python購物車程式\n",
    "#先設定空串列,在下行的商品辨識與總價運算會很方便(但不可與while True 後設定變數有衝突)\n",
    "goods=[]\n",
    "prices=[]\n",
    "\n",
    "while True:\n",
    "    good = input(\"請輸入想購買商品:(按q/Q離開)\").upper()\n",
    "    if good == 'Q':\n",
    "        break\n",
    "    elif good ==\"\" or good ==\" \":\n",
    "        print(\"不可不輸入內容!\")\n",
    "        good = input(\"請輸入想購買商品:(按q/Q離開)\").upper()\n",
    "\n",
    "    price=float(input(f\"請輸入{good}的價格:\"))\n",
    "#將goods & prices 使用.append()方法把輸入內容加入空字串中\n",
    "    goods.append(good)\n",
    "    prices.append(price)\n",
    "#使用for 迴圈來將商品與價格可以合併,並顯示在結果欄中\n",
    "for index,good in enumerate(goods):\n",
    "    print(f\"第{index+1}商品是{good},價格為{prices[index]:.2f}\")\n",
    "\n",
    "total=sum(prices)\n",
    "print(f\"你購買了{goods}\")\n",
    "print(f\"總價格為:${total}\")"
   ]
  },
  {
   "cell_type": "code",
   "execution_count": 52,
   "metadata": {},
   "outputs": [
    {
     "name": "stdout",
     "output_type": "stream",
     "text": [
      "dict_items([('GIORUNO', 'JOJO Advanture'), ('Sans', 'Undertale'), ('Luiji', 'Mario Series')])\n"
     ]
    }
   ],
   "source": [
    "#字典dict方法--不允許重複物件\n",
    "#鍵:值\n",
    "#key:value\n",
    "\n",
    "#範例\n",
    "charactor={\n",
    "    \"GIORUNO\":\"JOJO Advanture\",\n",
    "    \"Sans\":\"Undertale\",\n",
    "    \"Luiji\":\"Mario Series\",\n",
    "    }\n",
    "\n",
    "#取得鍵值對\n",
    "# print(charactor.get(\"GIORUNO\"))\n",
    "# print(charactor.get(\"Sans\"))\n",
    "\n",
    "#更新(加入)鍵值對:\n",
    "# charactor.update({\"Isayoi Sakuya\":'Touhon Series'})\n",
    "# print(charactor)\n",
    "\n",
    "#刪除鍵值對:\n",
    "# charactor.pop(\"Sans\")\n",
    "# print(charactor)\n",
    "\n",
    "#Values()=取得所有值\n",
    "#print(charactor.values())\n",
    "\n",
    "#items()=取得所有鍵值\n",
    "print(charactor.items())"
   ]
  }
 ],
 "metadata": {
  "kernelspec": {
   "display_name": "Python 3",
   "language": "python",
   "name": "python3"
  },
  "language_info": {
   "codemirror_mode": {
    "name": "ipython",
    "version": 3
   },
   "file_extension": ".py",
   "mimetype": "text/x-python",
   "name": "python",
   "nbconvert_exporter": "python",
   "pygments_lexer": "ipython3",
   "version": "3.9.17"
  }
 },
 "nbformat": 4,
 "nbformat_minor": 2
}
