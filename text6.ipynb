{
 "cells": [
  {
   "cell_type": "code",
   "execution_count": 3,
   "metadata": {},
   "outputs": [
    {
     "name": "stdout",
     "output_type": "stream",
     "text": [
      "你的手機號碼是:2301-993-882\n"
     ]
    }
   ],
   "source": [
    "def isPhoneNumber(text):\n",
    "    if len(text)!=12:\n",
    "        return False\n",
    "    if not text[0:4].isdecimal():\n",
    "        return False\n",
    "    if text[4]!=\"-\":\n",
    "        return False\n",
    "    if not text[5:8].isdecimal():\n",
    "        return False\n",
    "    if text[8]!=\"-\":\n",
    "        return False\n",
    "    if not text[9:12].isdecimal():\n",
    "        return False\n",
    "    return True\n",
    "\n",
    "phone_num=input(\"請輸入手機號碼xxxx-xxx-xxx:\")\n",
    "if isPhoneNumber(phone_num):\n",
    "    print(f\"你的手機號碼是:{phone_num}\")\n",
    "else:\n",
    "    print(\"手機號碼格式不正確!\")"
   ]
  },
  {
   "cell_type": "code",
   "execution_count": 1,
   "metadata": {},
   "outputs": [
    {
     "name": "stdout",
     "output_type": "stream",
     "text": [
      "2031-212-767\n",
      "您的手機號碼是:2031-212-767\n"
     ]
    }
   ],
   "source": [
    "import re\n",
    "def isPhoneNumber(text):\n",
    "    phoneNumRegex = re.compile(r'\\d\\d\\d\\d-\\d\\d\\d-\\d\\d\\d')\n",
    "    match = re.match(phoneNumRegex,text)\n",
    "    if re.match(phoneNumRegex,text) is None:\n",
    "        return False\n",
    "    else:\n",
    "        print(match.group())\n",
    "        return True\n",
    "\n",
    "phone_num = input(\"請輸入手機號碼xxxx-xxx-xxx:\")\n",
    "if isPhoneNumber(phone_num):\n",
    "    print(f\"您的手機號碼是:{phone_num:s}\")\n",
    "else:\n",
    "    print(\"手機號碼格式不正確\")"
   ]
  }
 ],
 "metadata": {
  "kernelspec": {
   "display_name": "Python 3",
   "language": "python",
   "name": "python3"
  },
  "language_info": {
   "codemirror_mode": {
    "name": "ipython",
    "version": 3
   },
   "file_extension": ".py",
   "mimetype": "text/x-python",
   "name": "python",
   "nbconvert_exporter": "python",
   "pygments_lexer": "ipython3",
   "version": "3.10.8"
  },
  "orig_nbformat": 4
 },
 "nbformat": 4,
 "nbformat_minor": 2
}
